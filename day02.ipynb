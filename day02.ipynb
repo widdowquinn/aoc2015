{
 "cells": [
  {
   "cell_type": "markdown",
   "id": "899eb763",
   "metadata": {},
   "source": [
    "# Day 02\n",
    "\n",
    "The elves are running low on wrapping paper, and so they need to submit an order for more. They have a list of the dimensions (length `l`, width `w`, and height `h`) of each present, and only want to order exactly as much as they need.\n",
    "\n",
    "Fortunately, every present is a box (a perfect right rectangular prism), which makes calculating the required wrapping paper for each gift a little easier: find the surface area of the box, which is `2*l*w + 2*w*h + 2*h*l`. The elves also need a little extra paper for each present: the area of the smallest side.\n",
    "\n",
    "For example:\n",
    "\n",
    "    A present with dimensions 2x3x4 requires 2*6 + 2*12 + 2*8 = 52 square feet of wrapping paper plus 6 square feet of slack, for a total of 58 square feet.\n",
    "    A present with dimensions 1x1x10 requires 2*1 + 2*10 + 2*10 = 42 square feet of wrapping paper plus 1 square foot of slack, for a total of 43 square feet.\n",
    "\n",
    "All numbers in the elves' list are in feet. How many total square feet of wrapping paper should they order?"
   ]
  },
  {
   "cell_type": "markdown",
   "id": "486b83a9",
   "metadata": {},
   "source": [
    "## Puzzle 1"
   ]
  },
  {
   "cell_type": "code",
   "execution_count": 1,
   "id": "691df08b",
   "metadata": {},
   "outputs": [],
   "source": [
    "def calc_wrap_area(l: float, w: float, h: float) -> float:\n",
    "    \"\"\"Return required area of wrapping paper.\n",
    "    \n",
    "    :param l: length of prism\n",
    "    :param w: width of prism\n",
    "    :param h: height of prism\n",
    "    \"\"\"\n",
    "    areas = (2 * l * w, 2 * w * h, 2 * h * l)\n",
    "    return sum(areas) + min(areas)/2\n",
    "\n",
    "\n",
    "def parse_and_calc_area(instr: str):\n",
    "    \"\"\"Process input string and return area\n",
    "    \n",
    "    :param instr: lxwxh string\n",
    "    \"\"\"\n",
    "    l, w, h = (float(_) for _ in instr.strip().split(\"x\"))\n",
    "    return calc_wrap_area(l, w, h)"
   ]
  },
  {
   "cell_type": "code",
   "execution_count": 2,
   "id": "58f2cba0",
   "metadata": {},
   "outputs": [
    {
     "name": "stdout",
     "output_type": "stream",
     "text": [
      "(2, 3, 4) 58.0\n",
      "(1, 1, 10) 43.0\n"
     ]
    }
   ],
   "source": [
    "dims = ((2, 3, 4), (1, 1, 10))\n",
    "for dim in dims:\n",
    "    print(dim, calc_wrap_area(*dim))"
   ]
  },
  {
   "cell_type": "code",
   "execution_count": 3,
   "id": "7939f7e2",
   "metadata": {},
   "outputs": [
    {
     "name": "stdout",
     "output_type": "stream",
     "text": [
      "2x3x4 58.0\n",
      "1x1x10 43.0\n"
     ]
    }
   ],
   "source": [
    "instrs = (\"2x3x4\", \"1x1x10\")\n",
    "for instr in instrs:\n",
    "    print(instr, parse_and_calc_area(instr))"
   ]
  },
  {
   "cell_type": "markdown",
   "id": "0a47c253",
   "metadata": {},
   "source": [
    "### Solution"
   ]
  },
  {
   "cell_type": "code",
   "execution_count": 4,
   "id": "63173db5",
   "metadata": {},
   "outputs": [
    {
     "name": "stdout",
     "output_type": "stream",
     "text": [
      "1586300.0\n"
     ]
    }
   ],
   "source": [
    "with open(\"day02.txt\", \"r\") as ifh:\n",
    "    print(sum(parse_and_calc_area(_.strip()) for _ in ifh.readlines()))"
   ]
  },
  {
   "cell_type": "markdown",
   "id": "a24a7949",
   "metadata": {},
   "source": [
    "## Puzzle 2\n",
    "\n",
    "The elves are also running low on ribbon. Ribbon is all the same width, so they only have to worry about the length they need to order, which they would again like to be exact.\n",
    "\n",
    "The ribbon required to wrap a present is the shortest distance around its sides, or the smallest perimeter of any one face. Each present also requires a bow made out of ribbon as well; the feet of ribbon required for the perfect bow is equal to the cubic feet of volume of the present. Don't ask how they tie the bow, though; they'll never tell.\n",
    "\n",
    "For example:\n",
    "\n",
    "    A present with dimensions 2x3x4 requires 2+2+3+3 = 10 feet of ribbon to wrap the present plus 2*3*4 = 24 feet of ribbon for the bow, for a total of 34 feet.\n",
    "    A present with dimensions 1x1x10 requires 1+1+1+1 = 4 feet of ribbon to wrap the present plus 1*1*10 = 10 feet of ribbon for the bow, for a total of 14 feet.\n",
    "\n",
    "How many total feet of ribbon should they order?"
   ]
  },
  {
   "cell_type": "code",
   "execution_count": 5,
   "id": "c80a365a",
   "metadata": {},
   "outputs": [],
   "source": [
    "def calc_ribbon(l: float, w: float, h: float) -> float:\n",
    "    \"\"\"Return required length of ribbon for wrapping.\n",
    "    \n",
    "    :param l: length of prism\n",
    "    :param w: width of prism\n",
    "    :param h: height of prism    \n",
    "    \"\"\"\n",
    "    ordered = sorted((l, w, h))\n",
    "    return 2 * (ordered[0] + ordered[1]) + l * w * h\n",
    "\n",
    "def parse_and_calc_ribbon(instr: str):\n",
    "    \"\"\"Process input string and return ribbon length\n",
    "    \n",
    "    :param instr: lxwxh string\n",
    "    \"\"\"\n",
    "    l, w, h = (float(_) for _ in instr.strip().split(\"x\"))\n",
    "    return calc_ribbon(l, w, h)"
   ]
  },
  {
   "cell_type": "code",
   "execution_count": 6,
   "id": "5a6aa08f",
   "metadata": {},
   "outputs": [
    {
     "name": "stdout",
     "output_type": "stream",
     "text": [
      "(2, 3, 4) 34\n",
      "(1, 1, 10) 14\n"
     ]
    }
   ],
   "source": [
    "dims = ((2, 3, 4), (1, 1, 10))\n",
    "for dim in dims:\n",
    "    print(dim, calc_ribbon(*dim))"
   ]
  },
  {
   "cell_type": "code",
   "execution_count": 7,
   "id": "aa185798",
   "metadata": {},
   "outputs": [
    {
     "name": "stdout",
     "output_type": "stream",
     "text": [
      "2x3x4 34.0\n",
      "1x1x10 14.0\n"
     ]
    }
   ],
   "source": [
    "instrs = (\"2x3x4\", \"1x1x10\")\n",
    "for instr in instrs:\n",
    "    print(instr, parse_and_calc_ribbon(instr))"
   ]
  },
  {
   "cell_type": "markdown",
   "id": "dfa55462",
   "metadata": {},
   "source": [
    "### Solution"
   ]
  },
  {
   "cell_type": "code",
   "execution_count": 8,
   "id": "bf8dc3df",
   "metadata": {},
   "outputs": [
    {
     "name": "stdout",
     "output_type": "stream",
     "text": [
      "3737498.0\n"
     ]
    }
   ],
   "source": [
    "with open(\"day02.txt\", \"r\") as ifh:\n",
    "    print(sum(parse_and_calc_ribbon(_.strip()) for _ in ifh.readlines()))"
   ]
  },
  {
   "cell_type": "code",
   "execution_count": null,
   "id": "e2a7aec8",
   "metadata": {},
   "outputs": [],
   "source": []
  }
 ],
 "metadata": {
  "kernelspec": {
   "display_name": "Python 3",
   "language": "python",
   "name": "python3"
  },
  "language_info": {
   "codemirror_mode": {
    "name": "ipython",
    "version": 3
   },
   "file_extension": ".py",
   "mimetype": "text/x-python",
   "name": "python",
   "nbconvert_exporter": "python",
   "pygments_lexer": "ipython3",
   "version": "3.8.10"
  }
 },
 "nbformat": 4,
 "nbformat_minor": 5
}
