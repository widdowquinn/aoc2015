{
 "cells": [
  {
   "cell_type": "markdown",
   "id": "4111144a",
   "metadata": {},
   "source": [
    "# Day 12\n",
    "\n",
    "Santa's Accounting-Elves need help balancing the books after a recent order. Unfortunately, their accounting software uses a peculiar storage format. That's where you come in.\n",
    "\n",
    "They have a JSON document which contains a variety of things: arrays ([1,2,3]), objects ({\"a\":1, \"b\":2}), numbers, and strings. Your first job is to simply find all of the numbers throughout the document and add them together.\n",
    "\n",
    "For example:\n",
    "\n",
    "    [1,2,3] and {\"a\":2,\"b\":4} both have a sum of 6.\n",
    "    [[[3]]] and {\"a\":{\"b\":4},\"c\":-1} both have a sum of 3.\n",
    "    {\"a\":[-1,1]} and [-1,{\"a\":1}] both have a sum of 0.\n",
    "    [] and {} both have a sum of 0.\n",
    "\n",
    "You will not encounter any strings containing numbers.\n",
    "\n",
    "What is the sum of all numbers in the document?"
   ]
  },
  {
   "cell_type": "markdown",
   "id": "51021233",
   "metadata": {},
   "source": [
    "## Puzzle 1"
   ]
  },
  {
   "cell_type": "code",
   "execution_count": 38,
   "id": "79710601",
   "metadata": {},
   "outputs": [],
   "source": [
    "import json\n",
    "\n",
    "from typing import List\n",
    "\n",
    "\n",
    "def parse_elem(elem, tot=0) -> int:\n",
    "    \"\"\"Return sum of numbers in element\n",
    "    \n",
    "    :param elem: a JSON element\n",
    "    \"\"\"\n",
    "    if isinstance(elem, int):\n",
    "        tot += elem\n",
    "    elif isinstance(elem, list):\n",
    "        tot += sum([parse_elem(_, tot) for _ in elem])\n",
    "    elif isinstance(elem, dict):\n",
    "        tot += sum([parse_elem(_, tot) for _ in elem.values()])\n",
    "        \n",
    "    return tot\n",
    "\n",
    "\n",
    "def sum_numbers(jsonstr:str) -> int:\n",
    "    \"\"\"Return sum of all numbers in JSON document\n",
    "    \n",
    "    :param jsonstr: JSON data as string\n",
    "    \"\"\"\n",
    "    total = 0\n",
    "    \n",
    "    # Load data\n",
    "    data = json.loads(jsonstr)\n",
    "\n",
    "    # Recursively descend into data and parse/sum numbers\n",
    "    return sum([parse_elem(_) for _ in data])"
   ]
  },
  {
   "cell_type": "markdown",
   "id": "c6740d7b",
   "metadata": {},
   "source": [
    "### Solution"
   ]
  },
  {
   "cell_type": "code",
   "execution_count": 39,
   "id": "1ac12b58",
   "metadata": {},
   "outputs": [
    {
     "name": "stdout",
     "output_type": "stream",
     "text": [
      "156366\n"
     ]
    }
   ],
   "source": [
    "with open(\"day12.txt\", \"r\") as ifh:\n",
    "    print(sum_numbers(ifh.read()))"
   ]
  },
  {
   "cell_type": "markdown",
   "id": "0e56663d",
   "metadata": {},
   "source": [
    "## Puzzle 2\n",
    "\n",
    "Uh oh - the Accounting-Elves have realized that they double-counted everything red.\n",
    "\n",
    "Ignore any object (and all of its children) which has any property with the value \"red\". Do this only for objects (`{...}`), not arrays (`[...]`).\n",
    "\n",
    "    [1,2,3] still has a sum of 6.\n",
    "    [1,{\"c\":\"red\",\"b\":2},3] now has a sum of 4, because the middle object is ignored.\n",
    "    {\"d\":\"red\",\"e\":[1,2,3,4],\"f\":5} now has a sum of 0, because the entire structure is ignored.\n",
    "    [1,\"red\",5] has a sum of 6, because \"red\" in an array has no effect.\n"
   ]
  },
  {
   "cell_type": "code",
   "execution_count": 59,
   "id": "e2ceb756",
   "metadata": {},
   "outputs": [],
   "source": [
    "def parse_elem2(elem, tot=0) -> int:\n",
    "    \"\"\"Return sum of numbers in element\n",
    "    \n",
    "    :param elem: a JSON element\n",
    "    \"\"\"\n",
    "    if isinstance(elem, int):\n",
    "        tot += elem\n",
    "    elif isinstance(elem, list):\n",
    "        tot += sum([parse_elem2(_, tot) for _ in elem])\n",
    "    elif isinstance(elem, dict):\n",
    "        if \"red\" not in elem.keys() and \"red\" not in elem.values():\n",
    "            tot += sum([parse_elem2(_, tot) for _ in elem.values()])\n",
    "        \n",
    "    return tot\n",
    "\n",
    "\n",
    "def sum_numbers2(jsonstr:str) -> int:\n",
    "    \"\"\"Return sum of all numbers in JSON document\n",
    "    \n",
    "    :param jsonstr: JSON data as string\n",
    "    \"\"\"\n",
    "    total = 0\n",
    "    \n",
    "    # Load data\n",
    "    data = json.loads(jsonstr)\n",
    "\n",
    "    # Recursively descend into data and parse/sum numbers\n",
    "    return sum([parse_elem2(_) for _ in data])"
   ]
  },
  {
   "cell_type": "markdown",
   "id": "71ab6930",
   "metadata": {},
   "source": [
    "### Solution"
   ]
  },
  {
   "cell_type": "code",
   "execution_count": 60,
   "id": "c45a8a04",
   "metadata": {},
   "outputs": [
    {
     "name": "stdout",
     "output_type": "stream",
     "text": [
      "96852\n"
     ]
    }
   ],
   "source": [
    "with open(\"day12.txt\", \"r\") as ifh:\n",
    "    print(sum_numbers2(ifh.read()))"
   ]
  },
  {
   "cell_type": "code",
   "execution_count": null,
   "id": "e0a0d08f",
   "metadata": {},
   "outputs": [],
   "source": []
  }
 ],
 "metadata": {
  "kernelspec": {
   "display_name": "Python 3",
   "language": "python",
   "name": "python3"
  },
  "language_info": {
   "codemirror_mode": {
    "name": "ipython",
    "version": 3
   },
   "file_extension": ".py",
   "mimetype": "text/x-python",
   "name": "python",
   "nbconvert_exporter": "python",
   "pygments_lexer": "ipython3",
   "version": "3.8.10"
  }
 },
 "nbformat": 4,
 "nbformat_minor": 5
}
