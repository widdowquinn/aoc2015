{
 "cells": [
  {
   "cell_type": "markdown",
   "id": "076f1ce8",
   "metadata": {},
   "source": [
    "# Day 6\n",
    "\n",
    "Because your neighbors keep defeating you in the holiday house decorating contest year after year, you've decided to deploy one million lights in a 1000x1000 grid.\n",
    "\n",
    "Furthermore, because you've been especially nice this year, Santa has mailed you instructions on how to display the ideal lighting configuration.\n",
    "\n",
    "Lights in your grid are numbered from 0 to 999 in each direction; the lights at each corner are at 0,0, 0,999, 999,999, and 999,0. The instructions include whether to turn on, turn off, or toggle various inclusive ranges given as coordinate pairs. Each coordinate pair represents opposite corners of a rectangle, inclusive; a coordinate pair like 0,0 through 2,2 therefore refers to 9 lights in a 3x3 square. The lights all start turned off.\n",
    "\n",
    "To defeat your neighbors this year, all you have to do is set up your lights by doing the instructions Santa sent you in order.\n",
    "\n",
    "For example:\n",
    "\n",
    "    turn on 0,0 through 999,999 would turn on (or leave on) every light.\n",
    "    toggle 0,0 through 999,0 would toggle the first line of 1000 lights, turning off the ones that were on, and turning on the ones that were off.\n",
    "    turn off 499,499 through 500,500 would turn off (or leave off) the middle four lights.\n",
    "\n",
    "After following the instructions, how many lights are lit?"
   ]
  },
  {
   "cell_type": "markdown",
   "id": "900253fc",
   "metadata": {},
   "source": [
    "## Puzzle 1"
   ]
  },
  {
   "cell_type": "code",
   "execution_count": 1,
   "id": "2748e65a",
   "metadata": {},
   "outputs": [],
   "source": [
    "import numpy as np\n",
    "\n",
    "from typing import Tuple\n",
    "\n",
    "class LightArray():\n",
    "    \n",
    "    def __init__(self):\n",
    "        \"\"\"Instantiate light array\"\"\"\n",
    "        self.clear_array()\n",
    "        \n",
    "    def clear_array(self):\n",
    "        \"\"\"Set array to 1000x1000 lights, all off\"\"\"\n",
    "        self._lights = np.zeros((1000, 1000))\n",
    "        \n",
    "    def run(self, instr:str):\n",
    "        \"\"\"Run passed command\n",
    "        \n",
    "        :param instr: instruction for lights\n",
    "        \"\"\"\n",
    "        # Parse out locations to turn on/off/toggle\n",
    "        locs = [_ for _ in instr.strip().split() if \",\" in _]\n",
    "        startx, starty = (int(_) for _ in locs[0].split(\",\"))\n",
    "        endx, endy = (int(_) for _ in locs[1].split(\",\"))\n",
    "        coords = (startx, starty, endx, endy)\n",
    "\n",
    "        # Distribute commands\n",
    "        if instr.startswith(\"turn on\"):\n",
    "            self.turn_on(coords)\n",
    "        elif instr.startswith(\"turn off\"):\n",
    "            self.turn_off(coords)\n",
    "        elif instr.startswith(\"toggle\"):\n",
    "            self.toggle(coords)\n",
    "        \n",
    "    def turn_on(self, coords:Tuple[int]):\n",
    "        \"\"\"Switch on lights between the two corners\n",
    "        \n",
    "        :param coords: (startx, starty, endx, endy)\n",
    "        \"\"\"\n",
    "        startx, starty, endx, endy = coords\n",
    "        self._lights[startx:endx+1, starty:endy+1] = 1\n",
    "        \n",
    "    def turn_off(self, coords:Tuple[int]):\n",
    "        \"\"\"Turn off lights between the two corners\n",
    "        \n",
    "        :param coords: (startx, starty, endx, endy)\n",
    "        \"\"\"\n",
    "        startx, starty, endx, endy = coords\n",
    "        self._lights[startx:endx+1, starty:endy+1] = 0\n",
    "        \n",
    "    def toggle(self, coords:Tuple[int]):\n",
    "        \"\"\"Toggle lights between the two corners\n",
    "        \n",
    "        :param coords: (startx, starty, endx, endy)\n",
    "        \"\"\"\n",
    "        startx, starty, endx, endy = coords\n",
    "        self._lights[startx:endx+1, starty:endy+1] = 1 - self._lights[startx:endx+1, starty:endy+1]\n",
    "        \n",
    "    @property\n",
    "    def num_lights_on(self):\n",
    "        return int(sum(sum(self._lights)))"
   ]
  },
  {
   "cell_type": "code",
   "execution_count": 2,
   "id": "49b6ad46",
   "metadata": {},
   "outputs": [
    {
     "name": "stdout",
     "output_type": "stream",
     "text": [
      "turn on 0,0 through 999,999 1000000\n",
      "toggle 0,0 through 999,0 999000\n",
      "turn off 499,499 through 500,500 998996\n"
     ]
    }
   ],
   "source": [
    "instrs = (\"turn on 0,0 through 999,999\",\n",
    "          \"toggle 0,0 through 999,0\",\n",
    "          \"turn off 499,499 through 500,500\")\n",
    "\n",
    "arr = LightArray()\n",
    "for instr in instrs:\n",
    "    arr.run(instr)\n",
    "    print(instr, arr.num_lights_on)"
   ]
  },
  {
   "cell_type": "markdown",
   "id": "88b5d508",
   "metadata": {},
   "source": [
    "### Solution"
   ]
  },
  {
   "cell_type": "code",
   "execution_count": 3,
   "id": "0813ee7c",
   "metadata": {},
   "outputs": [
    {
     "name": "stdout",
     "output_type": "stream",
     "text": [
      "400410\n"
     ]
    }
   ],
   "source": [
    "arr = LightArray()\n",
    "with open(\"day06.txt\", \"r\") as ifh:\n",
    "    for instr in ifh.readlines():\n",
    "        arr.run(instr)\n",
    "print(arr.num_lights_on)"
   ]
  },
  {
   "cell_type": "markdown",
   "id": "f95ba26c",
   "metadata": {},
   "source": [
    "## Puzzle 2\n",
    "\n",
    "You just finish implementing your winning light pattern when you realize you mistranslated Santa's message from Ancient Nordic Elvish.\n",
    "\n",
    "The light grid you bought actually has individual brightness controls; each light can have a brightness of zero or more. The lights all start at zero.\n",
    "\n",
    "The phrase turn on actually means that you should increase the brightness of those lights by 1.\n",
    "\n",
    "The phrase turn off actually means that you should decrease the brightness of those lights by 1, to a minimum of zero.\n",
    "\n",
    "The phrase toggle actually means that you should increase the brightness of those lights by 2.\n",
    "\n",
    "What is the total brightness of all lights combined after following Santa's instructions?\n",
    "\n",
    "For example:\n",
    "\n",
    "    turn on 0,0 through 0,0 would increase the total brightness by 1.\n",
    "    toggle 0,0 through 999,999 would increase the total brightness by 2000000.\n"
   ]
  },
  {
   "cell_type": "code",
   "execution_count": 4,
   "id": "64d7d5be",
   "metadata": {},
   "outputs": [],
   "source": [
    "class NewLightArray():\n",
    "    \n",
    "    def __init__(self):\n",
    "        \"\"\"Instantiate light array\"\"\"\n",
    "        self.clear_array()\n",
    "        \n",
    "    def clear_array(self):\n",
    "        \"\"\"Set array to 1000x1000 lights, all off\"\"\"\n",
    "        self._lights = np.zeros((1000, 1000))\n",
    "        \n",
    "    def run(self, instr:str):\n",
    "        \"\"\"Run passed command\n",
    "        \n",
    "        :param instr: instruction for lights\n",
    "        \"\"\"\n",
    "        # Parse out locations to turn on/off/toggle\n",
    "        locs = [_ for _ in instr.strip().split() if \",\" in _]\n",
    "        startx, starty = (int(_) for _ in locs[0].split(\",\"))\n",
    "        endx, endy = (int(_) for _ in locs[1].split(\",\"))\n",
    "        coords = (startx, starty, endx, endy)\n",
    "\n",
    "        # Distribute commands\n",
    "        if instr.startswith(\"turn on\"):\n",
    "            self.turn_on(coords)\n",
    "        elif instr.startswith(\"turn off\"):\n",
    "            self.turn_off(coords)\n",
    "        elif instr.startswith(\"toggle\"):\n",
    "            self.toggle(coords)\n",
    "        \n",
    "    def turn_on(self, coords:Tuple[int]):\n",
    "        \"\"\"Switch on lights between the two corners\n",
    "        \n",
    "        :param coords: (startx, starty, endx, endy)\n",
    "        \"\"\"\n",
    "        startx, starty, endx, endy = coords\n",
    "        self._lights[startx:endx+1, starty:endy+1] += 1\n",
    "        \n",
    "    def turn_off(self, coords:Tuple[int]):\n",
    "        \"\"\"Turn off lights between the two corners\n",
    "        \n",
    "        :param coords: (startx, starty, endx, endy)\n",
    "        \"\"\"\n",
    "        startx, starty, endx, endy = coords\n",
    "        self._lights[startx:endx+1, starty:endy+1] -= 1\n",
    "        \n",
    "        # minimum value is zero\n",
    "        self._lights[self._lights < 0] = 0\n",
    "        \n",
    "    def toggle(self, coords:Tuple[int]):\n",
    "        \"\"\"Toggle lights between the two corners\n",
    "        \n",
    "        :param coords: (startx, starty, endx, endy)\n",
    "        \"\"\"\n",
    "        startx, starty, endx, endy = coords\n",
    "        self._lights[startx:endx+1, starty:endy+1] += 2\n",
    "        \n",
    "    @property\n",
    "    def brightness(self):\n",
    "        return int(sum(sum(self._lights)))"
   ]
  },
  {
   "cell_type": "markdown",
   "id": "ccb0da3a",
   "metadata": {},
   "source": [
    "### Solution"
   ]
  },
  {
   "cell_type": "code",
   "execution_count": 5,
   "id": "ab280eb5",
   "metadata": {},
   "outputs": [
    {
     "name": "stdout",
     "output_type": "stream",
     "text": [
      "15343601\n"
     ]
    }
   ],
   "source": [
    "arr = NewLightArray()\n",
    "with open(\"day06.txt\", \"r\") as ifh:\n",
    "    for instr in ifh.readlines():\n",
    "        arr.run(instr)\n",
    "print(arr.brightness)"
   ]
  }
 ],
 "metadata": {
  "kernelspec": {
   "display_name": "Python 3",
   "language": "python",
   "name": "python3"
  },
  "language_info": {
   "codemirror_mode": {
    "name": "ipython",
    "version": 3
   },
   "file_extension": ".py",
   "mimetype": "text/x-python",
   "name": "python",
   "nbconvert_exporter": "python",
   "pygments_lexer": "ipython3",
   "version": "3.8.10"
  }
 },
 "nbformat": 4,
 "nbformat_minor": 5
}
