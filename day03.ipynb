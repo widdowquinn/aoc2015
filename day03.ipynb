{
 "cells": [
  {
   "cell_type": "markdown",
   "id": "5ee790d6",
   "metadata": {},
   "source": [
    "# Day 03\n",
    "\n",
    "Santa is delivering presents to an infinite two-dimensional grid of houses.\n",
    "\n",
    "He begins by delivering a present to the house at his starting location, and then an elf at the North Pole calls him via radio and tells him where to move next. Moves are always exactly one house to the north (`^`), south (`v`), east (`>`), or west (`<`). After each move, he delivers another present to the house at his new location.\n",
    "\n",
    "However, the elf back at the north pole has had a little too much eggnog, and so his directions are a little off, and Santa ends up visiting some houses more than once. How many houses receive at least one present?\n",
    "\n",
    "For example:\n",
    "\n",
    "    > delivers presents to 2 houses: one at the starting location, and one to the east.\n",
    "    ^>v< delivers presents to 4 houses in a square, including twice to the house at his starting/ending location.\n",
    "    ^v^v^v^v^v delivers a bunch of presents to some very lucky children at only 2 houses.\n"
   ]
  },
  {
   "cell_type": "markdown",
   "id": "f6314bb3",
   "metadata": {},
   "source": [
    "## Puzzle 1"
   ]
  },
  {
   "cell_type": "code",
   "execution_count": 1,
   "id": "9b9c2dc1",
   "metadata": {},
   "outputs": [],
   "source": [
    "def visited_houses(instr: str, start = (0, 0)) -> int:\n",
    "    \"\"\"Return number of houses visited at least once\n",
    "    \n",
    "    :param instr: movement instructions\n",
    "    :param start: starting location\n",
    "    \"\"\"\n",
    "    curloc = list(start)\n",
    "    visited = {}  # keyed by location\n",
    "    visited[start] = True\n",
    "    \n",
    "    # Clean input\n",
    "    instr = [_ for _ in instr if _ in \"<>^v\"]\n",
    "    \n",
    "    # Make visits\n",
    "    for _ in instr:\n",
    "        if _ == \">\":\n",
    "            curloc[1] += 1\n",
    "        elif _ == \"<\":\n",
    "            curloc[1] -= 1\n",
    "        elif _ == \"^\":\n",
    "            curloc[0] += 1\n",
    "        else:\n",
    "            curloc[0] -= 1\n",
    "        visited[tuple(curloc)] = True\n",
    "        \n",
    "    return len(visited)"
   ]
  },
  {
   "cell_type": "code",
   "execution_count": 2,
   "id": "79c6c29b",
   "metadata": {},
   "outputs": [
    {
     "name": "stdout",
     "output_type": "stream",
     "text": [
      "> 2\n",
      "^>v< 4\n",
      "^v^v^v^v^v 2\n"
     ]
    }
   ],
   "source": [
    "instrs = (\">\", \"^>v<\", \"^v^v^v^v^v\")\n",
    "for instr in instrs:\n",
    "    print(instr, visited_houses(instr))"
   ]
  },
  {
   "cell_type": "markdown",
   "id": "72f3a702",
   "metadata": {},
   "source": [
    "### Solution"
   ]
  },
  {
   "cell_type": "code",
   "execution_count": 3,
   "id": "04764057",
   "metadata": {},
   "outputs": [
    {
     "name": "stdout",
     "output_type": "stream",
     "text": [
      "2572\n"
     ]
    }
   ],
   "source": [
    "with open(\"day03.txt\", \"r\") as ifh:\n",
    "    print(visited_houses(ifh.read()))"
   ]
  },
  {
   "cell_type": "markdown",
   "id": "5d4a8607",
   "metadata": {},
   "source": [
    "## Puzzle 2\n",
    "\n",
    "The next year, to speed up the process, Santa creates a robot version of himself, Robo-Santa, to deliver presents with him.\n",
    "\n",
    "Santa and Robo-Santa start at the same location (delivering two presents to the same starting house), then take turns moving based on instructions from the elf, who is eggnoggedly reading from the same script as the previous year.\n",
    "\n",
    "This year, how many houses receive at least one present?\n",
    "\n",
    "For example:\n",
    "\n",
    "    ^v delivers presents to 3 houses, because Santa goes north, and then Robo-Santa goes south.\n",
    "    ^>v< now delivers presents to 3 houses, and Santa and Robo-Santa end up back where they started.\n",
    "    ^v^v^v^v^v now delivers presents to 11 houses, with Santa going one direction and Robo-Santa going the other."
   ]
  },
  {
   "cell_type": "code",
   "execution_count": 4,
   "id": "b9cd8c46",
   "metadata": {},
   "outputs": [],
   "source": [
    "def visits(instr: str, start = (0, 0)) -> int:\n",
    "    \"\"\"Return houses visited at least once\n",
    "    \n",
    "    :param instr: movement instructions\n",
    "    :param start: starting location\n",
    "    \"\"\"\n",
    "    curloc = list(start)\n",
    "    visited = {}  # keyed by location\n",
    "    visited[start] = True\n",
    "    \n",
    "    # Clean input\n",
    "    instr = [_ for _ in instr if _ in \"<>^v\"]\n",
    "    \n",
    "    # Make visits\n",
    "    for _ in instr:\n",
    "        if _ == \">\":\n",
    "            curloc[1] += 1\n",
    "        elif _ == \"<\":\n",
    "            curloc[1] -= 1\n",
    "        elif _ == \"^\":\n",
    "            curloc[0] += 1\n",
    "        else:\n",
    "            curloc[0] -= 1\n",
    "        visited[tuple(curloc)] = True\n",
    "        \n",
    "    return visited\n",
    "\n",
    "\n",
    "def robo_visited_houses(instr: str, start = (0, 0)) -> int:\n",
    "    \"\"\"Return number of houses visited at least once by Santa/Robo-Santa\n",
    "    \n",
    "    :param instr: movement instructions\n",
    "    :param start: starting location\n",
    "    \"\"\"\n",
    "    santaloc = list(start)\n",
    "    roboloc = list(start)\n",
    "    \n",
    "    # Clean input\n",
    "    instr = [_ for _ in instr if _ in \"<>^v\"]\n",
    "    santa_instr = instr[::2]\n",
    "    robo_instr = instr[1::2]\n",
    "    \n",
    "    return len({**visits(santa_instr), **visits(robo_instr)})"
   ]
  },
  {
   "cell_type": "code",
   "execution_count": 5,
   "id": "1c3dc510",
   "metadata": {},
   "outputs": [
    {
     "name": "stdout",
     "output_type": "stream",
     "text": [
      "^v 3\n",
      "^>v< 3\n",
      "^v^v^v^v^v 11\n"
     ]
    }
   ],
   "source": [
    "instrs = (\"^v\", \"^>v<\", \"^v^v^v^v^v\")\n",
    "for instr in instrs:\n",
    "    print(instr, robo_visited_houses(instr))"
   ]
  },
  {
   "cell_type": "markdown",
   "id": "8e4b5098",
   "metadata": {},
   "source": [
    "### Solution"
   ]
  },
  {
   "cell_type": "code",
   "execution_count": 6,
   "id": "3df7c013",
   "metadata": {},
   "outputs": [
    {
     "name": "stdout",
     "output_type": "stream",
     "text": [
      "2631\n"
     ]
    }
   ],
   "source": [
    "with open(\"day03.txt\", \"r\") as ifh:\n",
    "    print(robo_visited_houses(ifh.read()))"
   ]
  },
  {
   "cell_type": "code",
   "execution_count": null,
   "id": "ad927cb6",
   "metadata": {},
   "outputs": [],
   "source": []
  }
 ],
 "metadata": {
  "kernelspec": {
   "display_name": "Python 3",
   "language": "python",
   "name": "python3"
  },
  "language_info": {
   "codemirror_mode": {
    "name": "ipython",
    "version": 3
   },
   "file_extension": ".py",
   "mimetype": "text/x-python",
   "name": "python",
   "nbconvert_exporter": "python",
   "pygments_lexer": "ipython3",
   "version": "3.8.10"
  }
 },
 "nbformat": 4,
 "nbformat_minor": 5
}
