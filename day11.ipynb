{
 "cells": [
  {
   "cell_type": "markdown",
   "id": "7ad43b25",
   "metadata": {},
   "source": [
    "# Day 11\n",
    "\n",
    "Santa's previous password expired, and he needs help choosing a new one.\n",
    "\n",
    "To help him remember his new password after the old one expires, Santa has devised a method of coming up with a password based on the previous one. Corporate policy dictates that passwords must be exactly eight lowercase letters (for security reasons), so he finds his new password by incrementing his old password string repeatedly until it is valid.\n",
    "\n",
    "Incrementing is just like counting with numbers: xx, xy, xz, ya, yb, and so on. Increase the rightmost letter one step; if it was z, it wraps around to a, and repeat with the next letter to the left until one doesn't wrap around.\n",
    "\n",
    "Unfortunately for Santa, a new Security-Elf recently started, and he has imposed some additional password requirements:\n",
    "\n",
    "    Passwords must include one increasing straight of at least three letters, like abc, bcd, cde, and so on, up to xyz. They cannot skip letters; abd doesn't count.\n",
    "    Passwords may not contain the letters i, o, or l, as these letters can be mistaken for other characters and are therefore confusing.\n",
    "    Passwords must contain at least two different, non-overlapping pairs of letters, like aa, bb, or zz.\n",
    "\n",
    "For example:\n",
    "\n",
    "    hijklmmn meets the first requirement (because it contains the straight hij) but fails the second requirement requirement (because it contains i and l).\n",
    "    abbceffg meets the third requirement (because it repeats bb and ff) but fails the first requirement.\n",
    "    abbcegjk fails the third requirement, because it only has one double letter (bb).\n",
    "    The next password after abcdefgh is abcdffaa.\n",
    "    The next password after ghijklmn is ghjaabcc, because you eventually skip all the passwords that start with ghi..., since i is not allowed.\n",
    "\n",
    "Given Santa's current password (your puzzle input), what should his next password be?"
   ]
  },
  {
   "cell_type": "markdown",
   "id": "a6892963",
   "metadata": {},
   "source": [
    "## Puzzle 1"
   ]
  },
  {
   "cell_type": "code",
   "execution_count": 1,
   "id": "40d42b08",
   "metadata": {},
   "outputs": [],
   "source": [
    "import string\n",
    "\n",
    "import numpy as np\n",
    "\n",
    "DOUBLES = [2 * _ for _ in string.ascii_lowercase]\n",
    "\n",
    "\n",
    "def has_straight(pwd:str) -> bool:\n",
    "    \"\"\"Returns True if password has straight of 3 letters\n",
    "    \n",
    "    :param pwd: password string\n",
    "    \"\"\"\n",
    "    diffs = np.diff([ord(_) for _ in pwd])\n",
    "    for i in range(6):\n",
    "        if diffs[i] == diffs[i+1] == 1:\n",
    "            return True\n",
    "    return False\n",
    "\n",
    "\n",
    "def allowed_letters(pwd:str) -> bool:\n",
    "    \"\"\"Returns True if password only contains allowed letters\"\"\"\n",
    "    for _ in \"iol\":\n",
    "        if pwd.count(_):\n",
    "            return False\n",
    "    \n",
    "    return True\n",
    "\n",
    "\n",
    "def has_pairs(pwd:str) -> bool:\n",
    "    \"\"\"Returns True if password has >2 non-overlapping pairs\n",
    "    \n",
    "    :param pwd: password string\n",
    "    \"\"\"\n",
    "    paircounts = {dbl: bool(pwd.count(dbl)) for dbl in DOUBLES}\n",
    "    if sum(paircounts.values()) > 1:\n",
    "        return True\n",
    "    \n",
    "    return False\n",
    "\n",
    "\n",
    "def increment_letter(lttr:str) -> str:\n",
    "    \"\"\"Return next letter in sequence\n",
    "    \n",
    "    :param lttr: letter to increment\n",
    "    \"\"\"\n",
    "    _ = ord(lttr)\n",
    "    if _ in (104, 107, 110):\n",
    "        return chr(_ + 2)\n",
    "    elif _ == 122:\n",
    "        return \"a\"\n",
    "    else:\n",
    "        return chr(_ + 1)\n",
    "\n",
    "\n",
    "def increment_password(pwd:str) -> str:\n",
    "    \"\"\"Return next password candidate in sequence\n",
    "    \n",
    "    :param pwd: password to increment\n",
    "    \"\"\"\n",
    "    rpwd = list(pwd[::-1])\n",
    "    for idx, _ in enumerate(rpwd):\n",
    "        next_lett = increment_letter(_)\n",
    "        rpwd[idx] = next_lett\n",
    "        if next_lett != \"a\":\n",
    "            break\n",
    "    return \"\".join(rpwd[::-1])\n",
    "    \n",
    "\n",
    "def skip_invalid_letters(pwd:str) -> str:\n",
    "    \"\"\"Move invalid password letters to next valid choice\n",
    "    \n",
    "    :param pwd: password to update\n",
    "    \"\"\"\n",
    "    pwd = list(pwd)\n",
    "    for idx, _ in enumerate(pwd):\n",
    "        if _ in \"iol\":\n",
    "            pwd[idx] = chr(ord(_) + 1)\n",
    "            pwd[idx + 1:] = \"a\" * (len(pwd) - idx - 1)\n",
    "            return \"\".join(pwd)\n",
    "    return \"\".join(pwd)\n",
    "    \n",
    "    \n",
    "def next_password(pwd:str) -> str:\n",
    "    \"\"\"Return next valid password in sequence\n",
    "    \n",
    "    :param pwd: password to increment\n",
    "    \"\"\"\n",
    "    pwd = skip_invalid_letters(pwd)\n",
    "    \n",
    "    while True:\n",
    "        next_pwd = increment_password(pwd)\n",
    "        if has_straight(next_pwd) and has_pairs(next_pwd):\n",
    "            return next_pwd\n",
    "        pwd = next_pwd"
   ]
  },
  {
   "cell_type": "code",
   "execution_count": 2,
   "id": "55818ad0",
   "metadata": {},
   "outputs": [
    {
     "name": "stdout",
     "output_type": "stream",
     "text": [
      "hijklmmn True False False hijklmmp\n",
      "abbceffg False True True abbceffh\n",
      "abbcegjk False True False abbcegjm\n",
      "abcdefgh True True False abcdefgj\n",
      "abcdffaa True True True abcdffab\n",
      "ghijklmn True False False ghijklmp\n",
      "ghjaabcc True True True ghjaabcd\n",
      "abcdffaa\n",
      "ghjaabcc\n"
     ]
    }
   ],
   "source": [
    "pwds = (\"hijklmmn\",\n",
    "        \"abbceffg\",\n",
    "        \"abbcegjk\",\n",
    "        \"abcdefgh\",\n",
    "        \"abcdffaa\",\n",
    "        \"ghijklmn\",\n",
    "        \"ghjaabcc\")\n",
    "\n",
    "for pwd in pwds:\n",
    "    print(pwd, has_straight(pwd), allowed_letters(pwd), has_pairs(pwd), increment_password(pwd))\n",
    "    \n",
    "print(next_password(\"abcdefgh\"))\n",
    "print(next_password(\"ghijklmn\"))"
   ]
  },
  {
   "cell_type": "markdown",
   "id": "a4adba8e",
   "metadata": {},
   "source": [
    "### Solution"
   ]
  },
  {
   "cell_type": "code",
   "execution_count": 3,
   "id": "d002fa1c",
   "metadata": {},
   "outputs": [
    {
     "name": "stdout",
     "output_type": "stream",
     "text": [
      "cqjxxyzz\n"
     ]
    }
   ],
   "source": [
    "with open(\"day11.txt\", \"r\") as ifh:\n",
    "    print(next_password(ifh.read().strip()))"
   ]
  },
  {
   "cell_type": "markdown",
   "id": "0fdf6381",
   "metadata": {},
   "source": [
    "## Puzzle 2\n",
    "\n",
    "Santa's password expired again. What's the next one?"
   ]
  },
  {
   "cell_type": "code",
   "execution_count": 4,
   "id": "90a61600",
   "metadata": {},
   "outputs": [
    {
     "data": {
      "text/plain": [
       "'cqkaabcc'"
      ]
     },
     "execution_count": 4,
     "metadata": {},
     "output_type": "execute_result"
    }
   ],
   "source": [
    "next_password(\"cqjxxyzz\")"
   ]
  },
  {
   "cell_type": "code",
   "execution_count": null,
   "id": "7aa39ba8",
   "metadata": {},
   "outputs": [],
   "source": []
  }
 ],
 "metadata": {
  "kernelspec": {
   "display_name": "Python 3",
   "language": "python",
   "name": "python3"
  },
  "language_info": {
   "codemirror_mode": {
    "name": "ipython",
    "version": 3
   },
   "file_extension": ".py",
   "mimetype": "text/x-python",
   "name": "python",
   "nbconvert_exporter": "python",
   "pygments_lexer": "ipython3",
   "version": "3.8.10"
  }
 },
 "nbformat": 4,
 "nbformat_minor": 5
}
