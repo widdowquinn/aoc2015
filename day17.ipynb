{
 "cells": [
  {
   "cell_type": "markdown",
   "id": "3fccec1c",
   "metadata": {},
   "source": [
    "# Day 17\n",
    "\n",
    "The elves bought too much eggnog again - 150 liters this time. To fit it all into your refrigerator, you'll need to move it into smaller containers. You take an inventory of the capacities of the available containers.\n",
    "\n",
    "For example, suppose you have containers of size 20, 15, 10, 5, and 5 liters. If you need to store 25 liters, there are four ways to do it:\n",
    "\n",
    "    15 and 10\n",
    "    20 and 5 (the first 5)\n",
    "    20 and 5 (the second 5)\n",
    "    15, 5, and 5\n",
    "\n",
    "Filling all containers entirely, how many different combinations of containers can exactly fit all 150 liters of eggnog?"
   ]
  },
  {
   "cell_type": "markdown",
   "id": "03d90e83",
   "metadata": {},
   "source": [
    "## Puzzle 1"
   ]
  },
  {
   "cell_type": "code",
   "execution_count": 1,
   "id": "020af38f",
   "metadata": {},
   "outputs": [],
   "source": [
    "from itertools import combinations\n",
    "from typing import List\n",
    "\n",
    "\n",
    "def find_combinations(containers:List[int], total:int):\n",
    "    \"\"\"Return combinations of containers whose sizes sum to the total\n",
    "    \n",
    "    :param containers: list of container sizes\n",
    "    :param total: total size to be contained\n",
    "    \"\"\"\n",
    "    valid = []\n",
    "    for count in range(1, len(containers) + 1):\n",
    "        valid.extend([_ for _ in combinations(containers, count) if sum(_) == total])\n",
    "    return valid"
   ]
  },
  {
   "cell_type": "code",
   "execution_count": 2,
   "id": "c0a6f6f5",
   "metadata": {},
   "outputs": [
    {
     "data": {
      "text/plain": [
       "[(20, 5), (20, 5), (15, 10), (15, 5, 5)]"
      ]
     },
     "execution_count": 2,
     "metadata": {},
     "output_type": "execute_result"
    }
   ],
   "source": [
    "containers = (20, 15, 10, 5, 5)\n",
    "total = 25\n",
    "\n",
    "find_combinations(containers, total)"
   ]
  },
  {
   "cell_type": "markdown",
   "id": "84680dac",
   "metadata": {},
   "source": [
    "### Solution"
   ]
  },
  {
   "cell_type": "code",
   "execution_count": 3,
   "id": "d2784d34",
   "metadata": {},
   "outputs": [
    {
     "data": {
      "text/plain": [
       "654"
      ]
     },
     "execution_count": 3,
     "metadata": {},
     "output_type": "execute_result"
    }
   ],
   "source": [
    "total = 150\n",
    "\n",
    "with open(\"day17.txt\", \"r\") as ifh:\n",
    "    containers = [int(_.strip()) for _ in ifh.readlines()]\n",
    "\n",
    "valid = find_combinations(containers, total)\n",
    "len(valid)"
   ]
  },
  {
   "cell_type": "markdown",
   "id": "6205a8aa",
   "metadata": {},
   "source": [
    "## Puzzle 2\n",
    "\n",
    "While playing with all the containers in the kitchen, another load of eggnog arrives! The shipping and receiving department is requesting as many containers as you can spare.\n",
    "\n",
    "Find the minimum number of containers that can exactly fit all 150 liters of eggnog. How many different ways can you fill that number of containers and still hold exactly 150 litres?\n",
    "\n",
    "In the example above, the minimum number of containers was two. There were three ways to use that many containers, and so the answer there would be 3."
   ]
  },
  {
   "cell_type": "code",
   "execution_count": 4,
   "id": "2f65f1b9",
   "metadata": {},
   "outputs": [
    {
     "data": {
      "text/plain": [
       "57"
      ]
     },
     "execution_count": 4,
     "metadata": {},
     "output_type": "execute_result"
    }
   ],
   "source": [
    "valid_sizes = [(len(_), _) for _ in valid]\n",
    "len([_ for _ in valid_sizes if _[0] == 4])"
   ]
  },
  {
   "cell_type": "code",
   "execution_count": null,
   "id": "2cbe3f43",
   "metadata": {},
   "outputs": [],
   "source": []
  }
 ],
 "metadata": {
  "kernelspec": {
   "display_name": "Python 3",
   "language": "python",
   "name": "python3"
  },
  "language_info": {
   "codemirror_mode": {
    "name": "ipython",
    "version": 3
   },
   "file_extension": ".py",
   "mimetype": "text/x-python",
   "name": "python",
   "nbconvert_exporter": "python",
   "pygments_lexer": "ipython3",
   "version": "3.8.10"
  }
 },
 "nbformat": 4,
 "nbformat_minor": 5
}
