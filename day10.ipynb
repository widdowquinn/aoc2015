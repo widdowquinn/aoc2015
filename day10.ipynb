{
 "cells": [
  {
   "cell_type": "markdown",
   "id": "95ff05fb",
   "metadata": {},
   "source": [
    "# Day 10\n",
    "\n",
    "Today, the Elves are playing a game called look-and-say. They take turns making sequences by reading aloud the previous sequence and using that reading as the next sequence. For example, 211 is read as \"one two, two ones\", which becomes 1221 (1 2, 2 1s).\n",
    "\n",
    "Look-and-say sequences are generated iteratively, using the previous value as input for the next step. For each step, take the previous value, and replace each run of digits (like 111) with the number of digits (3) followed by the digit itself (1).\n",
    "\n",
    "For example:\n",
    "\n",
    "    1 becomes 11 (1 copy of digit 1).\n",
    "    11 becomes 21 (2 copies of digit 1).\n",
    "    21 becomes 1211 (one 2 followed by one 1).\n",
    "    1211 becomes 111221 (one 1, one 2, and two 1s).\n",
    "    111221 becomes 312211 (three 1s, two 2s, and one 1).\n",
    "\n",
    "Starting with the digits in your puzzle input, apply this process 40 times. What is the length of the result?"
   ]
  },
  {
   "cell_type": "markdown",
   "id": "668518b6",
   "metadata": {},
   "source": [
    "## Puzzle 1"
   ]
  },
  {
   "cell_type": "code",
   "execution_count": 1,
   "id": "7411f59f",
   "metadata": {},
   "outputs": [],
   "source": [
    "def look_and_say(instr:str) -> str:\n",
    "    \"\"\"Apply one round of look and say\n",
    "    \n",
    "    :param instr: input string\n",
    "    \"\"\"\n",
    "    data = list(instr)\n",
    "    \n",
    "    outstr = \"\"\n",
    "    \n",
    "    lastchar = data.pop(0)\n",
    "    lastcount = 1\n",
    "    \n",
    "    for newchar in data:\n",
    "        if newchar == lastchar:\n",
    "            lastcount += 1\n",
    "        else:\n",
    "            outstr = f\"{outstr}{lastcount}{lastchar}\"\n",
    "            lastchar = newchar\n",
    "            lastcount = 1\n",
    "            \n",
    "    outstr = f\"{outstr}{lastcount}{lastchar}\"\n",
    "                \n",
    "    return outstr\n",
    "\n",
    "\n",
    "def iter_look_and_say(instr:str, rounds:int) -> str:\n",
    "    \"\"\"Apply iterated look and say\n",
    "    \n",
    "    :param instr: input string\n",
    "    :param rounds: number of rounds of look and say to iterate over\n",
    "    \n",
    "    This is a slow implementation, There must be a quicker way to do\n",
    "    this.\n",
    "    \"\"\"\n",
    "    for _ in range(rounds):\n",
    "        instr = look_and_say(instr)\n",
    "        print(_, len(instr))\n",
    "        \n",
    "    return instr"
   ]
  },
  {
   "cell_type": "code",
   "execution_count": 2,
   "id": "8d5dff1e",
   "metadata": {},
   "outputs": [
    {
     "name": "stdout",
     "output_type": "stream",
     "text": [
      "1 11\n",
      "11 21\n",
      "21 1211\n",
      "1211 111221\n",
      "111221 312211\n",
      "0 2\n",
      "1 2\n",
      "2 4\n",
      "3 6\n",
      "4 6\n"
     ]
    },
    {
     "data": {
      "text/plain": [
       "'312211'"
      ]
     },
     "execution_count": 2,
     "metadata": {},
     "output_type": "execute_result"
    }
   ],
   "source": [
    "instrs = (\"1\", \"11\", \"21\", \"1211\", \"111221\")\n",
    "\n",
    "for instr in instrs:\n",
    "    print(instr, look_and_say(instr))\n",
    "    \n",
    "iter_look_and_say(\"1\", 5)"
   ]
  },
  {
   "cell_type": "markdown",
   "id": "aafbec18",
   "metadata": {},
   "source": [
    "### Solution"
   ]
  },
  {
   "cell_type": "code",
   "execution_count": 3,
   "id": "01c842e4",
   "metadata": {
    "scrolled": true
   },
   "outputs": [
    {
     "name": "stdout",
     "output_type": "stream",
     "text": [
      "0 12\n",
      "1 14\n",
      "2 22\n",
      "3 26\n",
      "4 30\n",
      "5 44\n",
      "6 56\n",
      "7 70\n",
      "8 98\n",
      "9 130\n",
      "10 162\n",
      "11 216\n",
      "12 292\n",
      "13 358\n",
      "14 470\n",
      "15 628\n",
      "16 792\n",
      "17 1050\n",
      "18 1384\n",
      "19 1788\n",
      "20 2334\n",
      "21 3072\n",
      "22 3974\n",
      "23 5162\n",
      "24 6784\n",
      "25 8786\n",
      "26 11420\n",
      "27 14992\n",
      "28 19484\n",
      "29 25388\n",
      "30 33160\n",
      "31 43262\n",
      "32 56252\n",
      "33 73392\n",
      "34 95798\n",
      "35 124496\n",
      "36 162556\n",
      "37 212048\n",
      "38 275976\n",
      "39 360154\n",
      "360154\n"
     ]
    }
   ],
   "source": [
    "with open(\"day10.txt\", \"r\") as ifh:\n",
    "    print(len(iter_look_and_say(ifh.read().strip(), 40)))"
   ]
  },
  {
   "cell_type": "markdown",
   "id": "6e938759",
   "metadata": {},
   "source": [
    "## Puzzle 2\n",
    "\n",
    "Neat, right? You might also enjoy hearing [John Conway talking about this sequence](https://www.youtube.com/watch?v=ea7lJkEhytA) (that's Conway of Conway's Game of Life fame).\n",
    "\n",
    "Now, starting again with the digits in your puzzle input, apply this process 50 times. What is the length of the new result?"
   ]
  },
  {
   "cell_type": "markdown",
   "id": "3fe7ee54",
   "metadata": {},
   "source": [
    "### Solution"
   ]
  },
  {
   "cell_type": "code",
   "execution_count": 4,
   "id": "a3554f0d",
   "metadata": {},
   "outputs": [
    {
     "name": "stdout",
     "output_type": "stream",
     "text": [
      "0 12\n",
      "1 14\n",
      "2 22\n",
      "3 26\n",
      "4 30\n",
      "5 44\n",
      "6 56\n",
      "7 70\n",
      "8 98\n",
      "9 130\n",
      "10 162\n",
      "11 216\n",
      "12 292\n",
      "13 358\n",
      "14 470\n",
      "15 628\n",
      "16 792\n",
      "17 1050\n",
      "18 1384\n",
      "19 1788\n",
      "20 2334\n",
      "21 3072\n",
      "22 3974\n",
      "23 5162\n",
      "24 6784\n",
      "25 8786\n",
      "26 11420\n",
      "27 14992\n",
      "28 19484\n",
      "29 25388\n",
      "30 33160\n",
      "31 43262\n",
      "32 56252\n",
      "33 73392\n",
      "34 95798\n",
      "35 124496\n",
      "36 162556\n",
      "37 212048\n",
      "38 275976\n",
      "39 360154\n",
      "40 469694\n",
      "41 611844\n",
      "42 797628\n",
      "43 1040344\n",
      "44 1355550\n",
      "45 1766402\n",
      "46 2304368\n",
      "47 3002354\n",
      "48 3913802\n",
      "49 5103798\n",
      "5103798\n"
     ]
    }
   ],
   "source": [
    "with open(\"day10.txt\", \"r\") as ifh:\n",
    "    print(len(iter_look_and_say(ifh.read().strip(), 50)))"
   ]
  },
  {
   "cell_type": "code",
   "execution_count": null,
   "id": "055dba20",
   "metadata": {},
   "outputs": [],
   "source": []
  }
 ],
 "metadata": {
  "kernelspec": {
   "display_name": "Python 3",
   "language": "python",
   "name": "python3"
  },
  "language_info": {
   "codemirror_mode": {
    "name": "ipython",
    "version": 3
   },
   "file_extension": ".py",
   "mimetype": "text/x-python",
   "name": "python",
   "nbconvert_exporter": "python",
   "pygments_lexer": "ipython3",
   "version": "3.8.10"
  }
 },
 "nbformat": 4,
 "nbformat_minor": 5
}
