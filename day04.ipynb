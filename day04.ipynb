{
 "cells": [
  {
   "cell_type": "markdown",
   "id": "297df7a7",
   "metadata": {},
   "source": [
    "# Day 04\n",
    "\n",
    "Santa needs help mining some AdventCoins (very similar to bitcoins) to use as gifts for all the economically forward-thinking little girls and boys.\n",
    "\n",
    "To do this, he needs to find MD5 hashes which, in hexadecimal, start with at least five zeroes. The input to the MD5 hash is some secret key (your puzzle input, given below) followed by a number in decimal. To mine AdventCoins, you must find Santa the lowest positive number (no leading zeroes: 1, 2, 3, ...) that produces such a hash.\n",
    "\n",
    "For example:\n",
    "\n",
    "    If your secret key is abcdef, the answer is 609043, because the MD5 hash of abcdef609043 starts with five zeroes (000001dbbfa...), and it is the lowest such number to do so.\n",
    "    If your secret key is pqrstuv, the lowest number it combines with to make an MD5 hash starting with five zeroes is 1048970; that is, the MD5 hash of pqrstuv1048970 looks like 000006136ef...."
   ]
  },
  {
   "cell_type": "markdown",
   "id": "0dc79311",
   "metadata": {},
   "source": [
    "## Puzzle 1"
   ]
  },
  {
   "cell_type": "code",
   "execution_count": 1,
   "id": "1c3f298f",
   "metadata": {},
   "outputs": [],
   "source": [
    "import hashlib\n",
    "\n",
    "def lowest_hash_int(key:str, startval:int=0, zeros:int=5) -> int:\n",
    "    \"\"\"Return lowest number whose keyed MD5 hash starts with 00000.\n",
    "    \n",
    "    :param key: secret key\n",
    "    \"\"\"\n",
    "    val = startval\n",
    "    md5hash = hashlib.md5(bytes(\"%s%s\" % (key, val), \"utf-8\"))\n",
    "    while not md5hash.hexdigest().startswith(zeros * \"0\"):\n",
    "        val += 1\n",
    "        md5hash = hashlib.md5(bytes(\"%s%s\" % (key, val), \"utf-8\"))\n",
    "        \n",
    "    return val"
   ]
  },
  {
   "cell_type": "code",
   "execution_count": null,
   "id": "9025e8a2",
   "metadata": {},
   "outputs": [
    {
     "name": "stdout",
     "output_type": "stream",
     "text": [
      "abcdef 609043\n"
     ]
    }
   ],
   "source": [
    "for key in (\"abcdef\", \"pqrstuv\"):\n",
    "    print(key, lowest_hash_int(key))"
   ]
  },
  {
   "cell_type": "markdown",
   "id": "f23a90f3",
   "metadata": {},
   "source": [
    "### Solution"
   ]
  },
  {
   "cell_type": "code",
   "execution_count": null,
   "id": "91354df7",
   "metadata": {},
   "outputs": [],
   "source": [
    "with open(\"day04.txt\", \"r\") as ifh:\n",
    "    print(lowest_hash_int(ifh.read().strip()))"
   ]
  },
  {
   "cell_type": "markdown",
   "id": "1981c9db",
   "metadata": {},
   "source": [
    "## Puzzle 2\n",
    "\n",
    "Now find one that starts with six zeroes."
   ]
  },
  {
   "cell_type": "code",
   "execution_count": null,
   "id": "afdfa2e3",
   "metadata": {},
   "outputs": [],
   "source": [
    "with open(\"day04.txt\", \"r\") as ifh:\n",
    "    print(lowest_hash_int(ifh.read().strip(), zeros=6))"
   ]
  },
  {
   "cell_type": "code",
   "execution_count": null,
   "id": "9b021ef8",
   "metadata": {},
   "outputs": [],
   "source": []
  }
 ],
 "metadata": {
  "kernelspec": {
   "display_name": "Python 3",
   "language": "python",
   "name": "python3"
  },
  "language_info": {
   "codemirror_mode": {
    "name": "ipython",
    "version": 3
   },
   "file_extension": ".py",
   "mimetype": "text/x-python",
   "name": "python",
   "nbconvert_exporter": "python",
   "pygments_lexer": "ipython3",
   "version": "3.8.10"
  }
 },
 "nbformat": 4,
 "nbformat_minor": 5
}
