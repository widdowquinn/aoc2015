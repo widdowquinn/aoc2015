{
 "cells": [
  {
   "cell_type": "markdown",
   "id": "95f8f8b2",
   "metadata": {},
   "source": [
    "# Day 13\n",
    "\n",
    "In years past, the holiday feast with your family hasn't gone so well. Not everyone gets along! This year, you resolve, will be different. You're going to find the optimal seating arrangement and avoid all those awkward conversations.\n",
    "\n",
    "You start by writing up a list of everyone invited and the amount their happiness would increase or decrease if they were to find themselves sitting next to each other person. You have a circular table that will be just big enough to fit everyone comfortably, and so each person will have exactly two neighbors.\n",
    "\n",
    "For example, suppose you have only four attendees planned, and you calculate their potential happiness as follows:\n",
    "\n",
    "```text\n",
    "Alice would gain 54 happiness units by sitting next to Bob.\n",
    "Alice would lose 79 happiness units by sitting next to Carol.\n",
    "Alice would lose 2 happiness units by sitting next to David.\n",
    "Bob would gain 83 happiness units by sitting next to Alice.\n",
    "Bob would lose 7 happiness units by sitting next to Carol.\n",
    "Bob would lose 63 happiness units by sitting next to David.\n",
    "Carol would lose 62 happiness units by sitting next to Alice.\n",
    "Carol would gain 60 happiness units by sitting next to Bob.\n",
    "Carol would gain 55 happiness units by sitting next to David.\n",
    "David would gain 46 happiness units by sitting next to Alice.\n",
    "David would lose 7 happiness units by sitting next to Bob.\n",
    "David would gain 41 happiness units by sitting next to Carol.\n",
    "```\n",
    "\n",
    "Then, if you seat Alice next to David, Alice would lose 2 happiness units (because David talks so much), but David would gain 46 happiness units (because Alice is such a good listener), for a total change of 44.\n",
    "\n",
    "If you continue around the table, you could then seat Bob next to Alice (Bob gains 83, Alice gains 54). Finally, seat Carol, who sits next to Bob (Carol gains 60, Bob loses 7) and David (Carol gains 55, David gains 41). The arrangement looks like this:\n",
    "\n",
    "```text\n",
    "     +41 +46\n",
    "+55   David    -2\n",
    "Carol       Alice\n",
    "+60    Bob    +54\n",
    "     -7  +83\n",
    "```\n",
    "\n",
    "After trying every other seating arrangement in this hypothetical scenario, you find that this one is the most optimal, with a total change in happiness of 330.\n",
    "\n",
    "What is the total change in happiness for the optimal seating arrangement of the actual guest list?"
   ]
  },
  {
   "cell_type": "markdown",
   "id": "419cd469",
   "metadata": {},
   "source": [
    "## Puzzle 1"
   ]
  },
  {
   "cell_type": "code",
   "execution_count": 1,
   "id": "b96701c3",
   "metadata": {},
   "outputs": [],
   "source": [
    "from collections import defaultdict\n",
    "from itertools import permutations\n",
    "from typing import Dict, List, Tuple\n",
    "\n",
    "\n",
    "def parse_relation(instr:str) -> Tuple:\n",
    "    \"\"\"Return account of gain/loss for a couple\n",
    "    \n",
    "    :param instr: input line describing couple's relationship\n",
    "    \"\"\"\n",
    "    data = instr.strip().split()\n",
    "    \n",
    "    person1, person2 = data[0], data[-1][:-1]\n",
    "    val = int(data[3])\n",
    "    if data[2] == \"lose\":\n",
    "        val = val * -1\n",
    "        \n",
    "    return (person1, person2), val\n",
    "\n",
    "\n",
    "def collate_costs(defns:List[str]) -> Dict:\n",
    "    \"\"\"Return dictionary of costs for sitting next to each other\n",
    "    \n",
    "    :param defns: list of relationship definitions\n",
    "    \"\"\"\n",
    "    costs = defaultdict(int)\n",
    "    \n",
    "    for defn in defns:\n",
    "        rel, val = parse_relation(defn)\n",
    "        costs[tuple(sorted(rel))] += val\n",
    "        \n",
    "    return costs\n",
    "\n",
    "\n",
    "def calc_cost(names:Tuple, defns:Dict) -> int:\n",
    "    \"\"\"Return cost of a specific seating arrangement\n",
    "    \n",
    "    :param names: ordered set of names\n",
    "    :param defns: cost for each pair of names sitting next to each other\n",
    "    \"\"\"\n",
    "    cost = 0\n",
    "    for _ in range(len(names) - 1):\n",
    "        key = tuple(sorted([names[_], names[_ + 1]]))\n",
    "        cost += defns[key]\n",
    "        \n",
    "    cost += defns[tuple(sorted([names[-1], names[0]]))]\n",
    "    \n",
    "    return cost\n",
    "\n",
    "\n",
    "def find_best_seating(defns:List[str]):\n",
    "    \"\"\"Return best seating arrangement\n",
    "    \n",
    "    :param defns: list of relationship definitions\n",
    "    \"\"\"\n",
    "    names = set()\n",
    "    defns = collate_costs(defns)\n",
    "    \n",
    "    for rel in defns.keys():\n",
    "        names = names.union(set(rel))\n",
    "    \n",
    "    options = [(calc_cost(_, defns), _) for _ in permutations(names)]\n",
    "    \n",
    "    return sorted(options, reverse=True)[0]"
   ]
  },
  {
   "cell_type": "code",
   "execution_count": 2,
   "id": "cbbb8516",
   "metadata": {},
   "outputs": [
    {
     "name": "stdout",
     "output_type": "stream",
     "text": [
      "Alice would gain 54 happiness units by sitting next to Bob. (('Alice', 'Bob'), 54)\n",
      "Alice would lose 79 happiness units by sitting next to Carol. (('Alice', 'Carol'), -79)\n",
      "Alice would lose 2 happiness units by sitting next to David. (('Alice', 'David'), -2)\n",
      "Bob would gain 83 happiness units by sitting next to Alice. (('Bob', 'Alice'), 83)\n",
      "Bob would lose 7 happiness units by sitting next to Carol. (('Bob', 'Carol'), -7)\n",
      "Bob would lose 63 happiness units by sitting next to David. (('Bob', 'David'), -63)\n",
      "Carol would lose 62 happiness units by sitting next to Alice. (('Carol', 'Alice'), -62)\n",
      "Carol would gain 60 happiness units by sitting next to Bob. (('Carol', 'Bob'), 60)\n",
      "Carol would gain 55 happiness units by sitting next to David. (('Carol', 'David'), 55)\n",
      "David would gain 46 happiness units by sitting next to Alice. (('David', 'Alice'), 46)\n",
      "David would lose 7 happiness units by sitting next to Bob. (('David', 'Bob'), -7)\n",
      "David would gain 41 happiness units by sitting next to Carol. (('David', 'Carol'), 41)\n",
      "defaultdict(<class 'int'>, {('Alice', 'Bob'): 137, ('Alice', 'Carol'): -141, ('Alice', 'David'): 44, ('Bob', 'Carol'): 53, ('Bob', 'David'): -70, ('Carol', 'David'): 96})\n",
      "(330, ('David', 'Carol', 'Bob', 'Alice'))\n"
     ]
    }
   ],
   "source": [
    "defns = (\"Alice would gain 54 happiness units by sitting next to Bob.\",\n",
    "        \"Alice would lose 79 happiness units by sitting next to Carol.\",\n",
    "        \"Alice would lose 2 happiness units by sitting next to David.\",\n",
    "        \"Bob would gain 83 happiness units by sitting next to Alice.\",\n",
    "        \"Bob would lose 7 happiness units by sitting next to Carol.\",\n",
    "        \"Bob would lose 63 happiness units by sitting next to David.\",\n",
    "        \"Carol would lose 62 happiness units by sitting next to Alice.\",\n",
    "        \"Carol would gain 60 happiness units by sitting next to Bob.\",\n",
    "        \"Carol would gain 55 happiness units by sitting next to David.\",\n",
    "        \"David would gain 46 happiness units by sitting next to Alice.\",\n",
    "        \"David would lose 7 happiness units by sitting next to Bob.\",\n",
    "        \"David would gain 41 happiness units by sitting next to Carol.\")\n",
    "\n",
    "for defn in defns:\n",
    "    print(defn, parse_relation(defn))\n",
    "    \n",
    "costs = collate_costs(defns)\n",
    "print(costs)\n",
    "\n",
    "print(find_best_seating(defns))"
   ]
  },
  {
   "cell_type": "markdown",
   "id": "db6d49f8",
   "metadata": {},
   "source": [
    "### Solution"
   ]
  },
  {
   "cell_type": "code",
   "execution_count": 3,
   "id": "3b68ffdc",
   "metadata": {},
   "outputs": [
    {
     "name": "stdout",
     "output_type": "stream",
     "text": [
      "(618, ('Mallory', 'George', 'David', 'Carol', 'Bob', 'Eric', 'Alice', 'Frank'))\n"
     ]
    }
   ],
   "source": [
    "with open(\"day13.txt\", \"r\") as ifh:\n",
    "    print(find_best_seating(ifh.readlines()))"
   ]
  },
  {
   "cell_type": "markdown",
   "id": "8103a054",
   "metadata": {},
   "source": [
    "## Puzzle 2\n",
    "\n",
    "In all the commotion, you realize that you forgot to seat yourself. At this point, you're pretty apathetic toward the whole thing, and your happiness wouldn't really go up or down regardless of who you sit next to. You assume everyone else would be just as ambivalent about sitting next to you, too.\n",
    "\n",
    "So, add yourself to the list, and give all happiness relationships that involve you a score of 0.\n",
    "\n",
    "What is the total change in happiness for the optimal seating arrangement that actually includes yourself?"
   ]
  },
  {
   "cell_type": "code",
   "execution_count": 4,
   "id": "c577090f",
   "metadata": {},
   "outputs": [],
   "source": [
    "def find_best_self_seating(defns:List[str]):\n",
    "    \"\"\"Return best seating arrangement including yourself\n",
    "    \n",
    "    :param defns: list of relationship definitions\n",
    "    \"\"\"\n",
    "    names = set()\n",
    "    defns = collate_costs(defns)\n",
    "    \n",
    "    for rel in defns.keys():\n",
    "        names = names.union(set(rel))\n",
    "    \n",
    "    for name in names:\n",
    "        key = tuple(sorted([\"me\", name]))\n",
    "        defns[key] = 0\n",
    "    \n",
    "    names.add(\"me\")\n",
    "    \n",
    "    options = [(calc_cost(_, defns), _) for _ in permutations(names)]\n",
    "    \n",
    "    return sorted(options, reverse=True)[0]"
   ]
  },
  {
   "cell_type": "code",
   "execution_count": 5,
   "id": "3846acf7",
   "metadata": {},
   "outputs": [
    {
     "name": "stdout",
     "output_type": "stream",
     "text": [
      "(286, ('me', 'David', 'Carol', 'Bob', 'Alice'))\n"
     ]
    }
   ],
   "source": [
    "print(find_best_self_seating(defns))"
   ]
  },
  {
   "cell_type": "markdown",
   "id": "44ec83ea",
   "metadata": {},
   "source": [
    "### Solution"
   ]
  },
  {
   "cell_type": "code",
   "execution_count": 6,
   "id": "d3c93fab",
   "metadata": {},
   "outputs": [
    {
     "name": "stdout",
     "output_type": "stream",
     "text": [
      "(601, ('me', 'Eric', 'Alice', 'Frank', 'Mallory', 'George', 'David', 'Carol', 'Bob'))\n"
     ]
    }
   ],
   "source": [
    "with open(\"day13.txt\", \"r\") as ifh:\n",
    "    print(find_best_self_seating(ifh.readlines()))"
   ]
  },
  {
   "cell_type": "code",
   "execution_count": null,
   "id": "336f7aa0",
   "metadata": {},
   "outputs": [],
   "source": []
  }
 ],
 "metadata": {
  "kernelspec": {
   "display_name": "Python 3",
   "language": "python",
   "name": "python3"
  },
  "language_info": {
   "codemirror_mode": {
    "name": "ipython",
    "version": 3
   },
   "file_extension": ".py",
   "mimetype": "text/x-python",
   "name": "python",
   "nbconvert_exporter": "python",
   "pygments_lexer": "ipython3",
   "version": "3.8.10"
  }
 },
 "nbformat": 4,
 "nbformat_minor": 5
}
