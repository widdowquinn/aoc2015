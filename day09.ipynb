{
 "cells": [
  {
   "cell_type": "markdown",
   "id": "3a9193d3",
   "metadata": {},
   "source": [
    "# Day 9\n",
    "\n",
    "Every year, Santa manages to deliver all of his presents in a single night.\n",
    "\n",
    "This year, however, he has some new locations to visit; his elves have provided him the distances between every pair of locations. He can start and end at any two (different) locations he wants, but he must visit each location exactly once. What is the shortest distance he can travel to achieve this?\n",
    "\n",
    "For example, given the following distances:\n",
    "\n",
    "    London to Dublin = 464\n",
    "    London to Belfast = 518\n",
    "    Dublin to Belfast = 141\n",
    "\n",
    "The possible routes are therefore:\n",
    "\n",
    "    Dublin -> London -> Belfast = 982\n",
    "    London -> Dublin -> Belfast = 605\n",
    "    London -> Belfast -> Dublin = 659\n",
    "    Dublin -> Belfast -> London = 659\n",
    "    Belfast -> Dublin -> London = 605\n",
    "    Belfast -> London -> Dublin = 982\n",
    "\n",
    "The shortest of these is London -> Dublin -> Belfast = 605, and so the answer is 605 in this example.\n",
    "\n",
    "What is the distance of the shortest route?"
   ]
  },
  {
   "cell_type": "markdown",
   "id": "5c407050",
   "metadata": {},
   "source": [
    "## Puzzle 1"
   ]
  },
  {
   "cell_type": "code",
   "execution_count": 1,
   "id": "0bc38f11",
   "metadata": {},
   "outputs": [],
   "source": [
    "from itertools import permutations\n",
    "from typing import Dict, List, Tuple\n",
    "\n",
    "\n",
    "def parse_route(instr:str) -> Tuple[str, str, int]:\n",
    "    \"\"\"Return tuple of locations and distance\n",
    "    \n",
    "    :param instr: route description\n",
    "    \"\"\"\n",
    "    elems = instr.strip().split()\n",
    "    return elems[0], elems[2], int(elems[-1])\n",
    "\n",
    "\n",
    "def build_route_dict(instrs:Tuple[str]) -> Tuple[Dict, List]:\n",
    "    \"\"\"Return dictionary of route distances and list of stops\n",
    "    \n",
    "    :param instrs: tuple of routes in form \"A to B = D\"\n",
    "    \"\"\"\n",
    "    routedict = {}\n",
    "    stops = set()\n",
    "    for route in (parse_route(_) for _ in instrs):\n",
    "        routedict[(route[0], route[1])] = int(route[-1])\n",
    "        routedict[(route[1], route[0])] = int(route[-1])\n",
    "        stops.add(route[0])\n",
    "        stops.add(route[1])\n",
    "    \n",
    "    return routedict, list(stops)\n",
    "\n",
    "\n",
    "def find_shortest_route(instrs:Tuple[str]) -> Tuple[List, int]:\n",
    "    \"\"\"Return shortest route and total length\n",
    "    \n",
    "    :param instrs: tuple of routes in form \"A to B = D\"\n",
    "    \"\"\"\n",
    "    routedict, stops = build_route_dict(instrs)\n",
    "    totstops = len(stops)\n",
    "    \n",
    "    results = []\n",
    "    \n",
    "    for route in permutations(stops):\n",
    "        routedist = sum([routedict[(route[i], route[i+1])] for i in range(totstops-1)])\n",
    "        results.append((routedist, route))\n",
    "            \n",
    "    return sorted(results)[0]\n",
    "    "
   ]
  },
  {
   "cell_type": "code",
   "execution_count": 2,
   "id": "7a991a03",
   "metadata": {},
   "outputs": [
    {
     "name": "stdout",
     "output_type": "stream",
     "text": [
      "London to Dublin = 464 ('London', 'Dublin', 464)\n",
      "London to Belfast = 518 ('London', 'Belfast', 518)\n",
      "Dublin to Belfast = 141 ('Dublin', 'Belfast', 141)\n",
      "{('London', 'Dublin'): 464, ('Dublin', 'London'): 464, ('London', 'Belfast'): 518, ('Belfast', 'London'): 518, ('Dublin', 'Belfast'): 141, ('Belfast', 'Dublin'): 141} ['Dublin', 'London', 'Belfast']\n"
     ]
    },
    {
     "data": {
      "text/plain": [
       "(605, ('Belfast', 'Dublin', 'London'))"
      ]
     },
     "execution_count": 2,
     "metadata": {},
     "output_type": "execute_result"
    }
   ],
   "source": [
    "dists = (\"London to Dublin = 464\",\n",
    "         \"London to Belfast = 518\",\n",
    "         \"Dublin to Belfast = 141\")\n",
    "\n",
    "for dist in dists:\n",
    "    print(dist, parse_route(dist))\n",
    "    \n",
    "route_dict, stops = build_route_dict(dists)\n",
    "print(route_dict, stops)\n",
    "\n",
    "find_shortest_route(dists)"
   ]
  },
  {
   "cell_type": "markdown",
   "id": "117eafc5",
   "metadata": {},
   "source": [
    "### Solution"
   ]
  },
  {
   "cell_type": "code",
   "execution_count": 3,
   "id": "6c3dccfb",
   "metadata": {},
   "outputs": [
    {
     "name": "stdout",
     "output_type": "stream",
     "text": [
      "(251, ('Norrath', 'Faerun', 'Straylight', 'Tristram', 'AlphaCentauri', 'Snowdin', 'Arbre', 'Tambi'))\n"
     ]
    }
   ],
   "source": [
    "with open(\"day09.txt\", \"r\") as ifh:\n",
    "    print(find_shortest_route(ifh.readlines()))"
   ]
  },
  {
   "cell_type": "markdown",
   "id": "f46b91bd",
   "metadata": {},
   "source": [
    "## Puzzle 2\n",
    "\n",
    "The next year, just to show off, Santa decides to take the route with the longest distance instead.\n",
    "\n",
    "He can still start and end at any two (different) locations he wants, and he still must visit each location exactly once.\n",
    "\n",
    "For example, given the distances above, the longest route would be 982 via (for example) Dublin -> London -> Belfast.\n",
    "\n",
    "What is the distance of the longest route?"
   ]
  },
  {
   "cell_type": "code",
   "execution_count": 4,
   "id": "f3eae781",
   "metadata": {},
   "outputs": [],
   "source": [
    "def find_longest_route(instrs:Tuple[str]) -> Tuple[List, int]:\n",
    "    \"\"\"Return shortest route and total length\n",
    "    \n",
    "    :param instrs: tuple of routes in form \"A to B = D\"\n",
    "    \"\"\"\n",
    "    routedict, stops = build_route_dict(instrs)\n",
    "    totstops = len(stops)\n",
    "    \n",
    "    results = []\n",
    "    \n",
    "    for route in permutations(stops):\n",
    "        routedist = sum([routedict[(route[i], route[i+1])] for i in range(totstops-1)])\n",
    "        results.append((routedist, route))\n",
    "            \n",
    "    return sorted(results)[-1]"
   ]
  },
  {
   "cell_type": "code",
   "execution_count": 5,
   "id": "013e345d",
   "metadata": {},
   "outputs": [
    {
     "data": {
      "text/plain": [
       "(982, ('Dublin', 'London', 'Belfast'))"
      ]
     },
     "execution_count": 5,
     "metadata": {},
     "output_type": "execute_result"
    }
   ],
   "source": [
    "dists = (\"London to Dublin = 464\",\n",
    "         \"London to Belfast = 518\",\n",
    "         \"Dublin to Belfast = 141\")\n",
    "\n",
    "find_longest_route(dists)"
   ]
  },
  {
   "cell_type": "markdown",
   "id": "79c8be01",
   "metadata": {},
   "source": [
    "### Solution"
   ]
  },
  {
   "cell_type": "code",
   "execution_count": 6,
   "id": "4fe0790c",
   "metadata": {},
   "outputs": [
    {
     "name": "stdout",
     "output_type": "stream",
     "text": [
      "(898, ('Tristram', 'Faerun', 'Arbre', 'Straylight', 'AlphaCentauri', 'Norrath', 'Tambi', 'Snowdin'))\n"
     ]
    }
   ],
   "source": [
    "with open(\"day09.txt\", \"r\") as ifh:\n",
    "    print(find_longest_route(ifh.readlines()))"
   ]
  },
  {
   "cell_type": "code",
   "execution_count": null,
   "id": "f955085e",
   "metadata": {},
   "outputs": [],
   "source": []
  }
 ],
 "metadata": {
  "kernelspec": {
   "display_name": "Python 3",
   "language": "python",
   "name": "python3"
  },
  "language_info": {
   "codemirror_mode": {
    "name": "ipython",
    "version": 3
   },
   "file_extension": ".py",
   "mimetype": "text/x-python",
   "name": "python",
   "nbconvert_exporter": "python",
   "pygments_lexer": "ipython3",
   "version": "3.8.10"
  }
 },
 "nbformat": 4,
 "nbformat_minor": 5
}
