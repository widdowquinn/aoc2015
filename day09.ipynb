{
 "cells": [
  {
   "cell_type": "markdown",
   "id": "39485701",
   "metadata": {},
   "source": [
    "# Day 9\n",
    "\n",
    "Every year, Santa manages to deliver all of his presents in a single night.\n",
    "\n",
    "This year, however, he has some new locations to visit; his elves have provided him the distances between every pair of locations. He can start and end at any two (different) locations he wants, but he must visit each location exactly once. What is the shortest distance he can travel to achieve this?\n",
    "\n",
    "For example, given the following distances:\n",
    "\n",
    "    London to Dublin = 464\n",
    "    London to Belfast = 518\n",
    "    Dublin to Belfast = 141\n",
    "\n",
    "The possible routes are therefore:\n",
    "\n",
    "    Dublin -> London -> Belfast = 982\n",
    "    London -> Dublin -> Belfast = 605\n",
    "    London -> Belfast -> Dublin = 659\n",
    "    Dublin -> Belfast -> London = 659\n",
    "    Belfast -> Dublin -> London = 605\n",
    "    Belfast -> London -> Dublin = 982\n",
    "\n",
    "The shortest of these is London -> Dublin -> Belfast = 605, and so the answer is 605 in this example.\n",
    "\n",
    "What is the distance of the shortest route?"
   ]
  },
  {
   "cell_type": "markdown",
   "id": "981aed15",
   "metadata": {},
   "source": [
    "## Puzzle 1"
   ]
  },
  {
   "cell_type": "code",
   "execution_count": 1,
   "id": "9ebb42f1",
   "metadata": {},
   "outputs": [],
   "source": [
    "from itertools import permutations\n",
    "from typing import Dict, List, Tuple\n",
    "\n",
    "\n",
    "def parse_route(instr:str) -> Tuple[str, str, int]:\n",
    "    \"\"\"Return tuple of locations and distance\n",
    "    \n",
    "    :param instr: route description\n",
    "    \"\"\"\n",
    "    elems = instr.strip().split()\n",
    "    return elems[0], elems[2], int(elems[-1])\n",
    "\n",
    "\n",
    "def build_route_dict(instrs:Tuple[str]) -> Tuple[Dict, List]:\n",
    "    \"\"\"Return dictionary of route distances and list of stops\n",
    "    \n",
    "    :param instrs: tuple of routes in form \"A to B = D\"\n",
    "    \"\"\"\n",
    "    routedict = {}\n",
    "    stops = set()\n",
    "    for route in (parse_route(_) for _ in instrs):\n",
    "        routedict[(route[0], route[1])] = int(route[-1])\n",
    "        routedict[(route[1], route[0])] = int(route[-1])\n",
    "        stops.add(route[0])\n",
    "        stops.add(route[1])\n",
    "    \n",
    "    return routedict, list(stops)\n",
    "\n",
    "\n",
    "def find_shortest_route(instrs:Tuple[str]) -> Tuple[List, int]:\n",
    "    \"\"\"Return shortest route and total length\n",
    "    \n",
    "    :param instrs: tuple of routes in form \"A to B = D\"\n",
    "    \"\"\"\n",
    "    routedict, stops = build_route_dict(instrs)\n",
    "    totstops = len(stops)\n",
    "    \n",
    "    results = []\n",
    "    \n",
    "    for route in permutations(stops):\n",
    "        routedist = sum([routedict[(route[i], route[i+1])] for i in range(totstops-1)])\n",
    "        results.append((routedist, route))\n",
    "            \n",
    "    return sorted(results)[0]\n",
    "    "
   ]
  },
  {
   "cell_type": "code",
   "execution_count": 2,
   "id": "bfd3da7b",
   "metadata": {},
   "outputs": [
    {
     "name": "stdout",
     "output_type": "stream",
     "text": [
      "London to Dublin = 464 ('London', 'Dublin', 464)\n",
      "London to Belfast = 518 ('London', 'Belfast', 518)\n",
      "Dublin to Belfast = 141 ('Dublin', 'Belfast', 141)\n",
      "{('London', 'Dublin'): 464, ('Dublin', 'London'): 464, ('London', 'Belfast'): 518, ('Belfast', 'London'): 518, ('Dublin', 'Belfast'): 141, ('Belfast', 'Dublin'): 141} ['Belfast', 'London', 'Dublin']\n"
     ]
    },
    {
     "ename": "NameError",
     "evalue": "name 'permutations' is not defined",
     "output_type": "error",
     "traceback": [
      "\u001b[0;31m---------------------------------------------------------------------------\u001b[0m",
      "\u001b[0;31mNameError\u001b[0m                                 Traceback (most recent call last)",
      "\u001b[0;32m<ipython-input-2-b98f3c8e4336>\u001b[0m in \u001b[0;36m<module>\u001b[0;34m\u001b[0m\n\u001b[1;32m      9\u001b[0m \u001b[0mprint\u001b[0m\u001b[0;34m(\u001b[0m\u001b[0mroute_dict\u001b[0m\u001b[0;34m,\u001b[0m \u001b[0mstops\u001b[0m\u001b[0;34m)\u001b[0m\u001b[0;34m\u001b[0m\u001b[0;34m\u001b[0m\u001b[0m\n\u001b[1;32m     10\u001b[0m \u001b[0;34m\u001b[0m\u001b[0m\n\u001b[0;32m---> 11\u001b[0;31m \u001b[0mfind_shortest_route\u001b[0m\u001b[0;34m(\u001b[0m\u001b[0mdists\u001b[0m\u001b[0;34m)\u001b[0m\u001b[0;34m\u001b[0m\u001b[0;34m\u001b[0m\u001b[0m\n\u001b[0m",
      "\u001b[0;32m<ipython-input-1-92736e515fd0>\u001b[0m in \u001b[0;36mfind_shortest_route\u001b[0;34m(instrs)\u001b[0m\n\u001b[1;32m     37\u001b[0m     \u001b[0mresults\u001b[0m \u001b[0;34m=\u001b[0m \u001b[0;34m[\u001b[0m\u001b[0;34m]\u001b[0m\u001b[0;34m\u001b[0m\u001b[0;34m\u001b[0m\u001b[0m\n\u001b[1;32m     38\u001b[0m \u001b[0;34m\u001b[0m\u001b[0m\n\u001b[0;32m---> 39\u001b[0;31m     \u001b[0;32mfor\u001b[0m \u001b[0mroute\u001b[0m \u001b[0;32min\u001b[0m \u001b[0mpermutations\u001b[0m\u001b[0;34m(\u001b[0m\u001b[0mstops\u001b[0m\u001b[0;34m)\u001b[0m\u001b[0;34m:\u001b[0m\u001b[0;34m\u001b[0m\u001b[0;34m\u001b[0m\u001b[0m\n\u001b[0m\u001b[1;32m     40\u001b[0m         \u001b[0mroutedist\u001b[0m \u001b[0;34m=\u001b[0m \u001b[0msum\u001b[0m\u001b[0;34m(\u001b[0m\u001b[0;34m[\u001b[0m\u001b[0mroutedict\u001b[0m\u001b[0;34m[\u001b[0m\u001b[0;34m(\u001b[0m\u001b[0mroute\u001b[0m\u001b[0;34m[\u001b[0m\u001b[0mi\u001b[0m\u001b[0;34m]\u001b[0m\u001b[0;34m,\u001b[0m \u001b[0mroute\u001b[0m\u001b[0;34m[\u001b[0m\u001b[0mi\u001b[0m\u001b[0;34m+\u001b[0m\u001b[0;36m1\u001b[0m\u001b[0;34m]\u001b[0m\u001b[0;34m)\u001b[0m\u001b[0;34m]\u001b[0m \u001b[0;32mfor\u001b[0m \u001b[0mi\u001b[0m \u001b[0;32min\u001b[0m \u001b[0mrange\u001b[0m\u001b[0;34m(\u001b[0m\u001b[0mtotstops\u001b[0m\u001b[0;34m-\u001b[0m\u001b[0;36m1\u001b[0m\u001b[0;34m)\u001b[0m\u001b[0;34m]\u001b[0m\u001b[0;34m)\u001b[0m\u001b[0;34m\u001b[0m\u001b[0;34m\u001b[0m\u001b[0m\n\u001b[1;32m     41\u001b[0m         \u001b[0mresults\u001b[0m\u001b[0;34m.\u001b[0m\u001b[0mappend\u001b[0m\u001b[0;34m(\u001b[0m\u001b[0;34m(\u001b[0m\u001b[0mroutedist\u001b[0m\u001b[0;34m,\u001b[0m \u001b[0mroute\u001b[0m\u001b[0;34m)\u001b[0m\u001b[0;34m)\u001b[0m\u001b[0;34m\u001b[0m\u001b[0;34m\u001b[0m\u001b[0m\n",
      "\u001b[0;31mNameError\u001b[0m: name 'permutations' is not defined"
     ]
    }
   ],
   "source": [
    "dists = (\"London to Dublin = 464\",\n",
    "         \"London to Belfast = 518\",\n",
    "         \"Dublin to Belfast = 141\")\n",
    "\n",
    "for dist in dists:\n",
    "    print(dist, parse_route(dist))\n",
    "    \n",
    "route_dict, stops = build_route_dict(dists)\n",
    "print(route_dict, stops)\n",
    "\n",
    "find_shortest_route(dists)"
   ]
  },
  {
   "cell_type": "markdown",
   "id": "e81f7a6b",
   "metadata": {},
   "source": [
    "### Solution"
   ]
  },
  {
   "cell_type": "code",
   "execution_count": null,
   "id": "6503d67e",
   "metadata": {},
   "outputs": [],
   "source": [
    "with open(\"day09.txt\", \"r\") as ifh:\n",
    "    print(find_shortest_route(ifh.readlines()))"
   ]
  },
  {
   "cell_type": "markdown",
   "id": "07a08f59",
   "metadata": {},
   "source": [
    "## Puzzle 2\n",
    "\n",
    "The next year, just to show off, Santa decides to take the route with the longest distance instead.\n",
    "\n",
    "He can still start and end at any two (different) locations he wants, and he still must visit each location exactly once.\n",
    "\n",
    "For example, given the distances above, the longest route would be 982 via (for example) Dublin -> London -> Belfast.\n",
    "\n",
    "What is the distance of the longest route?"
   ]
  },
  {
   "cell_type": "code",
   "execution_count": null,
   "id": "49c7c620",
   "metadata": {},
   "outputs": [],
   "source": [
    "def find_longest_route(instrs:Tuple[str]) -> Tuple[List, int]:\n",
    "    \"\"\"Return shortest route and total length\n",
    "    \n",
    "    :param instrs: tuple of routes in form \"A to B = D\"\n",
    "    \"\"\"\n",
    "    routedict, stops = build_route_dict(instrs)\n",
    "    totstops = len(stops)\n",
    "    \n",
    "    results = []\n",
    "    \n",
    "    for route in permutations(stops):\n",
    "        routedist = sum([routedict[(route[i], route[i+1])] for i in range(totstops-1)])\n",
    "        results.append((routedist, route))\n",
    "            \n",
    "    return sorted(results)[-1]"
   ]
  },
  {
   "cell_type": "code",
   "execution_count": null,
   "id": "e5ee10f9",
   "metadata": {},
   "outputs": [],
   "source": [
    "dists = (\"London to Dublin = 464\",\n",
    "         \"London to Belfast = 518\",\n",
    "         \"Dublin to Belfast = 141\")\n",
    "\n",
    "find_longest_route(dists)"
   ]
  },
  {
   "cell_type": "markdown",
   "id": "ca7cc41b",
   "metadata": {},
   "source": [
    "### Solution"
   ]
  },
  {
   "cell_type": "code",
   "execution_count": null,
   "id": "a853c855",
   "metadata": {},
   "outputs": [],
   "source": [
    "with open(\"day09.txt\", \"r\") as ifh:\n",
    "    print(find_longest_route(ifh.readlines()))"
   ]
  },
  {
   "cell_type": "code",
   "execution_count": null,
   "id": "e0d8e742",
   "metadata": {},
   "outputs": [],
   "source": []
  }
 ],
 "metadata": {
  "kernelspec": {
   "display_name": "Python 3",
   "language": "python",
   "name": "python3"
  },
  "language_info": {
   "codemirror_mode": {
    "name": "ipython",
    "version": 3
   },
   "file_extension": ".py",
   "mimetype": "text/x-python",
   "name": "python",
   "nbconvert_exporter": "python",
   "pygments_lexer": "ipython3",
   "version": "3.8.10"
  }
 },
 "nbformat": 4,
 "nbformat_minor": 5
}
