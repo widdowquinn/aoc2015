{
 "cells": [
  {
   "cell_type": "markdown",
   "id": "f4bc9bfb",
   "metadata": {},
   "source": [
    "# Day 15\n",
    "\n",
    "Today, you set out on the task of perfecting your milk-dunking cookie recipe. All you have to do is find the right balance of ingredients.\n",
    "\n",
    "Your recipe leaves room for exactly 100 teaspoons of ingredients. You make a list of the remaining ingredients you could use to finish the recipe (your puzzle input) and their properties per teaspoon:\n",
    "\n",
    "    capacity (how well it helps the cookie absorb milk)\n",
    "    durability (how well it keeps the cookie intact when full of milk)\n",
    "    flavor (how tasty it makes the cookie)\n",
    "    texture (how it improves the feel of the cookie)\n",
    "    calories (how many calories it adds to the cookie)\n",
    "\n",
    "You can only measure ingredients in whole-teaspoon amounts accurately, and you have to be accurate so you can reproduce your results in the future. The total score of a cookie can be found by adding up each of the properties (negative totals become 0) and then multiplying together everything except calories.\n",
    "\n",
    "For instance, suppose you have these two ingredients:\n",
    "\n",
    "```text\n",
    "Butterscotch: capacity -1, durability -2, flavor 6, texture 3, calories 8\n",
    "Cinnamon: capacity 2, durability 3, flavor -2, texture -1, calories 3\n",
    "```\n",
    "\n",
    "Then, choosing to use 44 teaspoons of butterscotch and 56 teaspoons of cinnamon (because the amounts of each ingredient must add up to 100) would result in a cookie with the following properties:\n",
    "\n",
    "    A capacity of 44*-1 + 56*2 = 68\n",
    "    A durability of 44*-2 + 56*3 = 80\n",
    "    A flavor of 44*6 + 56*-2 = 152\n",
    "    A texture of 44*3 + 56*-1 = 76\n",
    "\n",
    "Multiplying these together (68 * 80 * 152 * 76, ignoring calories for now) results in a total score of 62842880, which happens to be the best score possible given these ingredients. If any properties had produced a negative total, it would have instead become zero, causing the whole score to multiply to zero.\n",
    "\n",
    "Given the ingredients in your kitchen and their properties, what is the total score of the highest-scoring cookie you can make?"
   ]
  },
  {
   "cell_type": "markdown",
   "id": "ea18008d",
   "metadata": {},
   "source": [
    "## Puzzle 1"
   ]
  },
  {
   "cell_type": "code",
   "execution_count": 1,
   "id": "4a7119e3",
   "metadata": {},
   "outputs": [],
   "source": [
    "import random\n",
    "\n",
    "from dataclasses import dataclass\n",
    "from typing import Iterable\n",
    "\n",
    "import numpy as np\n",
    "\n",
    "\n",
    "@dataclass\n",
    "class Ingredient():\n",
    "    \n",
    "    name: str\n",
    "    capacity: int\n",
    "    durability: int\n",
    "    flavor: int\n",
    "    texture: int\n",
    "    calories: 8\n",
    "\n",
    "\n",
    "def parse_ingredient(instr:str):\n",
    "    \"\"\"Return Ingredient object\n",
    "    \n",
    "    :param instr: string describing ingredient\n",
    "    \"\"\"\n",
    "    data = instr.strip().replace(\",\", \"\").split()\n",
    "    ing = Ingredient(data[0][:-1], int(data[2]), int(data[4]), int(data[6]), int(data[8]), int(data[10]))\n",
    "    return ing\n",
    "\n",
    "\n",
    "def calculate_score(ingredients:Iterable, quantities:Iterable):\n",
    "    \"\"\"Return score of ingredients\n",
    "    \n",
    "    :param ingredients: iterable of Ingredient objects\n",
    "    :param quantities: iterable of quantities of each ingredient\n",
    "    \"\"\"\n",
    "    cap, dur, fla, tex, cal = 0, 0, 0, 0, 0\n",
    "    \n",
    "    for i, q in zip(ingredients, quantities):\n",
    "        cap += i.capacity * q\n",
    "        dur += i.durability * q\n",
    "        fla += i.flavor * q\n",
    "        tex += i.texture * q\n",
    "    \n",
    "#     print(quantities, [_ for _ in (cap, dur, fla, tex)])\n",
    "    return np.prod([max(0, _) for _ in (cap, dur, fla, tex)])\n",
    "    \n",
    "\n",
    "def find_best_neighbour(ingredients, quantities):\n",
    "    neighbours = []\n",
    "    for idx1, qty in enumerate(quantities[:-1]):\n",
    "        for idx2 in range(idx1+1, len(quantities)):\n",
    "            for val in (1, -1):\n",
    "                nbr = quantities[:]\n",
    "                nbr[idx1] += val\n",
    "                nbr[idx2] += val * -1\n",
    "                if (0 < nbr[idx1] < 100) and (0 < nbr[idx2] < 100):\n",
    "                    neighbours.append((calculate_score(ingredients, nbr), nbr))\n",
    "#     print(neighbours)\n",
    "    return sorted(neighbours, reverse=True)[0]\n",
    "    \n",
    "    \n",
    "def optimise(ingredients:Iterable, total=100, quantities=None):\n",
    "    \"\"\"Optimise quantities of passed ingredients\n",
    "    \n",
    "    :param ingredients: iterable of Ingredient objects\n",
    "    :param total: total amount of ingredients\n",
    "    \"\"\"\n",
    "    if quantities == None:\n",
    "        quantities = [total/len(ingredients)] * len(ingredients)\n",
    "    cost = calculate_score(ingredients, quantities)  # initial cost\n",
    "\n",
    "    # Find best immediate neighbour (+/- 1 unit in a pair of ingredients)\n",
    "    nbrscore, nbr = find_best_neighbour(ingredients, quantities)\n",
    "    while nbrscore > cost:\n",
    "        cost, quantities = nbrscore, nbr\n",
    "        nbrscore, nbr = find_best_neighbour(ingredients, quantities)\n",
    "#         print(nbrscore, nbr)\n",
    "    print(int(cost), list(zip(quantities, [ing.name for ing in ingredients])))"
   ]
  },
  {
   "cell_type": "code",
   "execution_count": 2,
   "id": "edfbf0c6",
   "metadata": {},
   "outputs": [
    {
     "name": "stdout",
     "output_type": "stream",
     "text": [
      "Butterscotch: capacity -1, durability -2, flavor 6, texture 3, calories 8 Ingredient(name='Butterscotch', capacity=-1, durability=-2, flavor=6, texture=3, calories=8)\n",
      "Cinnamon: capacity 2, durability 3, flavor -2, texture -1, calories 3 Ingredient(name='Cinnamon', capacity=2, durability=3, flavor=-2, texture=-1, calories=3)\n",
      "62842880 [(44.0, 'Butterscotch'), (56.0, 'Cinnamon')]\n"
     ]
    }
   ],
   "source": [
    "ingredients = (\"Butterscotch: capacity -1, durability -2, flavor 6, texture 3, calories 8\",\n",
    "               \"Cinnamon: capacity 2, durability 3, flavor -2, texture -1, calories 3\")\n",
    "\n",
    "for ing in ingredients:\n",
    "    print(ing, parse_ingredient(ing))\n",
    "    \n",
    "optimise([parse_ingredient(ing) for ing in ingredients])"
   ]
  },
  {
   "cell_type": "markdown",
   "id": "a093fb95",
   "metadata": {},
   "source": [
    "### Solution"
   ]
  },
  {
   "cell_type": "code",
   "execution_count": 3,
   "id": "445656ea",
   "metadata": {},
   "outputs": [
    {
     "name": "stdout",
     "output_type": "stream",
     "text": [
      "222870 [(21, 'Sugar'), (5, 'Sprinkles'), (31, 'Candy'), (43, 'Chocolate')]\n"
     ]
    }
   ],
   "source": [
    "with open(\"day15.txt\", \"r\") as ifh:\n",
    "    optimise([parse_ingredient(ing) for ing in ifh.readlines()],\n",
    "             quantities = [24, 15, 25, 36])"
   ]
  },
  {
   "cell_type": "markdown",
   "id": "0fa1c94e",
   "metadata": {},
   "source": [
    "## Puzzle 2\n",
    "\n",
    "Your cookie recipe becomes wildly popular! Someone asks if you can make another recipe that has exactly 500 calories per cookie (so they can use it as a meal replacement). Keep the rest of your award-winning process the same (100 teaspoons, same ingredients, same scoring system).\n",
    "\n",
    "For example, given the ingredients above, if you had instead selected 40 teaspoons of butterscotch and 60 teaspoons of cinnamon (which still adds to 100), the total calorie count would be 40*8 + 60*3 = 500. The total score would go down, though: only 57600000, the best you can do in such trying circumstances.\n",
    "\n",
    "Given the ingredients in your kitchen and their properties, what is the total score of the highest-scoring cookie you can make with a calorie total of 500?"
   ]
  },
  {
   "cell_type": "markdown",
   "id": "db8c96c8",
   "metadata": {},
   "source": [
    "### Solution"
   ]
  },
  {
   "cell_type": "code",
   "execution_count": 4,
   "id": "06877e18",
   "metadata": {},
   "outputs": [],
   "source": [
    "from itertools import permutations\n",
    "\n",
    "# Brute force generation of all valid quantities\n",
    "candidates = [_ for _  in permutations(list(range(1, 101)), 4) if sum(_) == 100]"
   ]
  },
  {
   "cell_type": "code",
   "execution_count": 5,
   "id": "76d6eaa5",
   "metadata": {},
   "outputs": [],
   "source": [
    "def total_calories(ingredients, quantities):\n",
    "    return sum([i.calories * q for (i, q) in zip(ingredients, quantities)])"
   ]
  },
  {
   "cell_type": "markdown",
   "id": "4b4d9e8f",
   "metadata": {},
   "source": [
    "### Solution"
   ]
  },
  {
   "cell_type": "code",
   "execution_count": 6,
   "id": "edd728cd",
   "metadata": {},
   "outputs": [
    {
     "data": {
      "text/plain": [
       "(117936, (21, 8, 26, 45))"
      ]
     },
     "execution_count": 6,
     "metadata": {},
     "output_type": "execute_result"
    }
   ],
   "source": [
    "with open(\"day15.txt\", \"r\") as ifh:\n",
    "    ingredients = [parse_ingredient(ing) for ing in ifh.readlines()]  # read ingredients\n",
    "    candidates2 = [_ for _ in candidates if total_calories(ingredients, _) == 500]  # all recipes with 500 calories\n",
    "    scores = [(calculate_score(ingredients, _), _) for _ in candidates2]  # all scores for 500 calorie recipes\n",
    "\n",
    "sorted(scores, reverse=True)[0]  # Highest-scoring 500 calorie recipe"
   ]
  },
  {
   "cell_type": "code",
   "execution_count": null,
   "id": "8cba368b",
   "metadata": {},
   "outputs": [],
   "source": []
  }
 ],
 "metadata": {
  "kernelspec": {
   "display_name": "Python 3",
   "language": "python",
   "name": "python3"
  },
  "language_info": {
   "codemirror_mode": {
    "name": "ipython",
    "version": 3
   },
   "file_extension": ".py",
   "mimetype": "text/x-python",
   "name": "python",
   "nbconvert_exporter": "python",
   "pygments_lexer": "ipython3",
   "version": "3.8.10"
  }
 },
 "nbformat": 4,
 "nbformat_minor": 5
}
