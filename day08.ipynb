{
 "cells": [
  {
   "cell_type": "markdown",
   "id": "acadeeed",
   "metadata": {},
   "source": [
    "# Day 8\n",
    "\n",
    "Space on the sleigh is limited this year, and so Santa will be bringing his list as a digital copy. He needs to know how much space it will take up when stored.\n",
    "\n",
    "It is common in many programming languages to provide a way to escape special characters in strings. For example, C, JavaScript, Perl, Python, and even PHP handle special characters in very similar ways.\n",
    "\n",
    "However, it is important to realize the difference between the number of characters in the code representation of the string literal and the number of characters in the in-memory string itself.\n",
    "\n",
    "For example:\n",
    "\n",
    "    \"\" is 2 characters of code (the two double quotes), but the string contains zero characters.\n",
    "    \"abc\" is 5 characters of code, but 3 characters in the string data.\n",
    "    \"aaa\\\"aaa\" is 10 characters of code, but the string itself contains six \"a\" characters and a single, escaped quote character, for a total of 7 characters in the string data.\n",
    "    \"\\x27\" is 6 characters of code, but the string itself contains just one - an apostrophe ('), escaped using hexadecimal notation.\n",
    "\n",
    "Santa's list is a file that contains many double-quoted string literals, one on each line. The only escape sequences used are `\\\\` (which represents a single backslash), \\\" (which represents a lone double-quote character), and `\\x` plus two hexadecimal characters (which represents a single character with that ASCII code).\n",
    "\n",
    "Disregarding the whitespace in the file, what is the number of characters of code for string literals minus the number of characters in memory for the values of the strings in total for the entire file?\n",
    "\n",
    "For example, given the four strings above, the total number of characters of string code (2 + 5 + 10 + 6 = 23) minus the total number of characters in memory for string values (0 + 3 + 7 + 1 = 11) is 23 - 11 = 12."
   ]
  },
  {
   "cell_type": "markdown",
   "id": "42f0bd05",
   "metadata": {},
   "source": [
    "## Puzzle 1"
   ]
  },
  {
   "cell_type": "code",
   "execution_count": 1,
   "id": "8ab6395e",
   "metadata": {},
   "outputs": [],
   "source": [
    "import codecs\n",
    "\n",
    "from typing import List, Tuple\n",
    "\n",
    "\n",
    "def string_lengths(instr:str) -> Tuple[int]:\n",
    "    \"\"\"Return raw string length and interpreted string length\n",
    "    \n",
    "    :param instr: input raw string\n",
    "    \"\"\"\n",
    "    rawlen = len(instr)\n",
    "    if instr.startswith('\"'):\n",
    "        interplen = len(codecs.decode(instr[1:-1], \"unicode_escape\"))\n",
    "    else:\n",
    "        interplen = len(codecs.decode(instr, \"unicode_escape\"))\n",
    "        \n",
    "    return rawlen, interplen\n",
    "\n",
    "def solve(instrs:List[str]) -> int:\n",
    "    \"\"\"Return solution to problem 1\n",
    "    \n",
    "    :param instrs: list of raw strings\n",
    "    \"\"\"\n",
    "    rawcount, interpcount = 0, 0\n",
    "    for instr in instrs:\n",
    "        rawlen, interplen = string_lengths(instr)\n",
    "        rawcount += rawlen\n",
    "        interpcount += interplen\n",
    "        \n",
    "    return rawcount - interpcount"
   ]
  },
  {
   "cell_type": "code",
   "execution_count": 2,
   "id": "7b96bc77",
   "metadata": {},
   "outputs": [
    {
     "name": "stdout",
     "output_type": "stream",
     "text": [
      "\"\" (2, 0)\n",
      "\"abc\" (5, 3)\n",
      "\"aaa\\\"aaa\" (10, 7)\n",
      "\"\\x27\" (6, 1)\n"
     ]
    },
    {
     "data": {
      "text/plain": [
       "12"
      ]
     },
     "execution_count": 2,
     "metadata": {},
     "output_type": "execute_result"
    }
   ],
   "source": [
    "instrs = (r'\"\"', r'\"abc\"', r'\"aaa\\\"aaa\"', r'\"\\x27\"')\n",
    "\n",
    "for instr in instrs:\n",
    "    print(instr, string_lengths(instr))\n",
    "    \n",
    "solve(instrs)"
   ]
  },
  {
   "cell_type": "markdown",
   "id": "4398bda9",
   "metadata": {},
   "source": [
    "### Solution"
   ]
  },
  {
   "cell_type": "code",
   "execution_count": 3,
   "id": "86940c3a",
   "metadata": {},
   "outputs": [
    {
     "data": {
      "text/plain": [
       "1333"
      ]
     },
     "execution_count": 3,
     "metadata": {},
     "output_type": "execute_result"
    }
   ],
   "source": [
    "with open(\"day08.txt\", \"r\") as ifh:\n",
    "    instrs = [rf'{_}' for _ in ifh.readlines()]\n",
    "    \n",
    "solve(instrs)"
   ]
  },
  {
   "cell_type": "markdown",
   "id": "cff98dbd",
   "metadata": {},
   "source": [
    "## Puzzle 2\n",
    "\n",
    "Now, let's go the other way. In addition to finding the number of characters of code, you should now encode each code representation as a new string and find the number of characters of the new encoded representation, including the surrounding double quotes.\n",
    "\n",
    "For example:\n",
    "\n",
    "    \"\" encodes to \"\\\"\\\"\", an increase from 2 characters to 6.\n",
    "    \"abc\" encodes to \"\\\"abc\\\"\", an increase from 5 characters to 9.\n",
    "    \"aaa\\\"aaa\" encodes to \"\\\"aaa\\\\\\\"aaa\\\"\", an increase from 10 characters to 16.\n",
    "    \"\\x27\" encodes to \"\\\"\\\\x27\\\"\", an increase from 6 characters to 11.\n",
    "\n",
    "Your task is to find the total number of characters to represent the newly encoded strings minus the number of characters of code in each original string literal. For example, for the strings above, the total encoded length (6 + 9 + 16 + 11 = 42) minus the characters in the original code representation (23, just like in the first part of this puzzle) is 42 - 23 = 19."
   ]
  },
  {
   "cell_type": "code",
   "execution_count": 4,
   "id": "7ccc56e3",
   "metadata": {},
   "outputs": [],
   "source": [
    "def expand(instr:str) -> str:\n",
    "    \"\"\"Expand input string with escapes.\n",
    "    \n",
    "    :param instr: input string\n",
    "    \"\"\"\n",
    "    newstr = codecs.encode(instr, \"utf-8\").decode(\"raw_unicode_escape\").replace('\\\\', '\\\\\\\\').replace('\"', r'\\\"')\n",
    "    return rf'\"{newstr}\"'\n",
    "\n",
    "def solve2(instrs:List[str]) -> int:\n",
    "    \"\"\"Return solution to problem 2\n",
    "    \n",
    "    :param instrs: list of raw strings\n",
    "    \"\"\"\n",
    "    rawcount, expandcount = 0, 0\n",
    "    for instr in instrs:\n",
    "        rawcount += len(instr)\n",
    "        expandcount += len(expand(instr))\n",
    "        \n",
    "    return expandcount - rawcount"
   ]
  },
  {
   "cell_type": "code",
   "execution_count": 5,
   "id": "ce7b19d3",
   "metadata": {},
   "outputs": [
    {
     "name": "stdout",
     "output_type": "stream",
     "text": [
      "\"\" \"\\\"\\\"\" 6\n",
      "\"abc\" \"\\\"abc\\\"\" 9\n",
      "\"aaa\\\"aaa\" \"\\\"aaa\\\\\\\"aaa\\\"\" 16\n",
      "\"\\x27\" \"\\\"\\\\x27\\\"\" 11\n"
     ]
    },
    {
     "data": {
      "text/plain": [
       "19"
      ]
     },
     "execution_count": 5,
     "metadata": {},
     "output_type": "execute_result"
    }
   ],
   "source": [
    "instrs = (r'\"\"', r'\"abc\"', r'\"aaa\\\"aaa\"', r'\"\\x27\"')\n",
    "\n",
    "for instr in instrs:\n",
    "    print(instr, expand(instr), len(expand(instr)))\n",
    "    \n",
    "solve2(instrs)"
   ]
  },
  {
   "cell_type": "markdown",
   "id": "340617c0",
   "metadata": {},
   "source": [
    "### Solution"
   ]
  },
  {
   "cell_type": "code",
   "execution_count": 6,
   "id": "e3191526",
   "metadata": {},
   "outputs": [
    {
     "data": {
      "text/plain": [
       "2046"
      ]
     },
     "execution_count": 6,
     "metadata": {},
     "output_type": "execute_result"
    }
   ],
   "source": [
    "with open(\"day08.txt\", \"r\") as ifh:\n",
    "    instrs = [rf'{_}' for _ in ifh.readlines()]\n",
    "    \n",
    "solve2(instrs)"
   ]
  },
  {
   "cell_type": "code",
   "execution_count": null,
   "id": "a5aafed8",
   "metadata": {},
   "outputs": [],
   "source": []
  }
 ],
 "metadata": {
  "kernelspec": {
   "display_name": "Python 3",
   "language": "python",
   "name": "python3"
  },
  "language_info": {
   "codemirror_mode": {
    "name": "ipython",
    "version": 3
   },
   "file_extension": ".py",
   "mimetype": "text/x-python",
   "name": "python",
   "nbconvert_exporter": "python",
   "pygments_lexer": "ipython3",
   "version": "3.8.10"
  }
 },
 "nbformat": 4,
 "nbformat_minor": 5
}
