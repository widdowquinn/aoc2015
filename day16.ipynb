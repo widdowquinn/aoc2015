{
 "cells": [
  {
   "cell_type": "markdown",
   "id": "fa6dbacc",
   "metadata": {},
   "source": [
    "# Day 16\n",
    "\n",
    "Your Aunt Sue has given you a wonderful gift, and you'd like to send her a thank you card. However, there's a small problem: she signed it \"From, Aunt Sue\".\n",
    "\n",
    "You have 500 Aunts named \"Sue\".\n",
    "\n",
    "So, to avoid sending the card to the wrong person, you need to figure out which Aunt Sue (which you conveniently number 1 to 500, for sanity) gave you the gift. You open the present and, as luck would have it, good ol' Aunt Sue got you a My First Crime Scene Analysis Machine! Just what you wanted. Or needed, as the case may be.\n",
    "\n",
    "The My First Crime Scene Analysis Machine (MFCSAM for short) can detect a few specific compounds in a given sample, as well as how many distinct kinds of those compounds there are. According to the instructions, these are what the MFCSAM can detect:\n",
    "\n",
    "    children, by human DNA age analysis.\n",
    "    cats. It doesn't differentiate individual breeds.\n",
    "    Several seemingly random breeds of dog: samoyeds, pomeranians, akitas, and vizslas.\n",
    "    goldfish. No other kinds of fish.\n",
    "    trees, all in one group.\n",
    "    cars, presumably by exhaust or gasoline or something.\n",
    "    perfumes, which is handy, since many of your Aunts Sue wear a few kinds.\n",
    "\n",
    "In fact, many of your Aunts Sue have many of these. You put the wrapping from the gift into the MFCSAM. It beeps inquisitively at you a few times and then prints out a message on ticker tape:\n",
    "\n",
    "```text\n",
    "children: 3\n",
    "cats: 7\n",
    "samoyeds: 2\n",
    "pomeranians: 3\n",
    "akitas: 0\n",
    "vizslas: 0\n",
    "goldfish: 5\n",
    "trees: 3\n",
    "cars: 2\n",
    "perfumes: 1\n",
    "```\n",
    "\n",
    "You make a list of the things you can remember about each Aunt Sue. Things missing from your list aren't zero - you simply don't remember the value.\n",
    "\n",
    "What is the number of the Sue that got you the gift?"
   ]
  },
  {
   "cell_type": "markdown",
   "id": "c5b22555",
   "metadata": {},
   "source": [
    "## Puzzle 1"
   ]
  },
  {
   "cell_type": "code",
   "execution_count": 27,
   "id": "d9a9c87e",
   "metadata": {},
   "outputs": [],
   "source": [
    "from dataclasses import dataclass\n",
    "from typing import List\n",
    "\n",
    "\n",
    "@dataclass\n",
    "class Sue():\n",
    "    number: int\n",
    "    children: int=None\n",
    "    cats: int=None\n",
    "    samoyeds: int=None\n",
    "    pomeranians: int=None\n",
    "    akitas: int=None\n",
    "    vizslas: int=None\n",
    "    goldfish: int=None\n",
    "    trees: int=None\n",
    "    cars: int=None\n",
    "    perfumes: int=None\n",
    "    \n",
    "\n",
    "def parse_sue(instr:str):\n",
    "    \"\"\"Return Sue object from string\n",
    "    \n",
    "    :param instr: description of Sue\n",
    "    \"\"\"\n",
    "    data = instr.strip().split()\n",
    "\n",
    "    pairs = ((2, 3), (4, 5), (6, 7))\n",
    "    kwargs = {}\n",
    "    for word, val in pairs:\n",
    "        kwargs[data[word][:-1]] = int(data[val].replace(\",\", \"\"))\n",
    "    \n",
    "    return Sue(number=int(data[1][:-1]), **kwargs)\n",
    "\n",
    "\n",
    "def id_sue(sues:List):\n",
    "    \"\"\"Return an identified Sue from the list\n",
    "    \n",
    "    :param sues: list of Sues objects\n",
    "    \"\"\"\n",
    "    ticker = {\"children\": 3,\n",
    "              \"cats\": 7,\n",
    "              \"samoyeds\": 2,\n",
    "              \"pomeranians\": 3,\n",
    "              \"akitas\": 0,\n",
    "              \"vizslas\": 0,\n",
    "              \"goldfish\": 5,\n",
    "              \"trees\": 3,\n",
    "              \"cars\": 2,\n",
    "              \"perfumes\": 1}\n",
    "    for key, val in ticker.items():\n",
    "        sues = [_ for _ in sues if getattr(_, key) in (None, val)]\n",
    "        \n",
    "    return sues"
   ]
  },
  {
   "cell_type": "code",
   "execution_count": 28,
   "id": "22582045",
   "metadata": {},
   "outputs": [
    {
     "name": "stdout",
     "output_type": "stream",
     "text": [
      "[Sue(number=1, children=None, cats=None, samoyeds=9, pomeranians=None, akitas=None, vizslas=None, goldfish=9, trees=None, cars=0, perfumes=None), Sue(number=2, children=None, cats=None, samoyeds=None, pomeranians=None, akitas=None, vizslas=None, goldfish=8, trees=8, cars=None, perfumes=5), Sue(number=3, children=None, cats=None, samoyeds=None, pomeranians=2, akitas=1, vizslas=None, goldfish=None, trees=5, cars=None, perfumes=None), Sue(number=4, children=None, cats=None, samoyeds=None, pomeranians=None, akitas=2, vizslas=None, goldfish=10, trees=None, cars=None, perfumes=9), Sue(number=5, children=None, cats=None, samoyeds=None, pomeranians=None, akitas=9, vizslas=None, goldfish=None, trees=None, cars=5, perfumes=6), Sue(number=6, children=None, cats=9, samoyeds=None, pomeranians=None, akitas=None, vizslas=None, goldfish=10, trees=None, cars=8, perfumes=None), Sue(number=7, children=None, cats=None, samoyeds=7, pomeranians=None, akitas=None, vizslas=None, goldfish=10, trees=2, cars=None, perfumes=None), Sue(number=8, children=None, cats=None, samoyeds=None, pomeranians=None, akitas=None, vizslas=None, goldfish=1, trees=None, cars=8, perfumes=6), Sue(number=9, children=None, cats=4, samoyeds=None, pomeranians=0, akitas=None, vizslas=None, goldfish=None, trees=0, cars=None, perfumes=None), Sue(number=10, children=10, cats=None, samoyeds=10, pomeranians=None, akitas=None, vizslas=None, goldfish=None, trees=2, cars=None, perfumes=None)]\n",
      "[]\n"
     ]
    }
   ],
   "source": [
    "data = (\"Sue 1: goldfish: 9, cars: 0, samoyeds: 9\",\n",
    "        \"Sue 2: perfumes: 5, trees: 8, goldfish: 8\",\n",
    "        \"Sue 3: pomeranians: 2, akitas: 1, trees: 5\",\n",
    "        \"Sue 4: goldfish: 10, akitas: 2, perfumes: 9\",\n",
    "        \"Sue 5: cars: 5, perfumes: 6, akitas: 9\",\n",
    "        \"Sue 6: goldfish: 10, cats: 9, cars: 8\",\n",
    "        \"Sue 7: trees: 2, samoyeds: 7, goldfish: 10\",\n",
    "        \"Sue 8: cars: 8, perfumes: 6, goldfish: 1\",\n",
    "        \"Sue 9: cats: 4, pomeranians: 0, trees: 0\",\n",
    "        \"Sue 10: trees: 2, children: 10, samoyeds: 10\")\n",
    "\n",
    "sues = [parse_sue(sue) for sue in data]\n",
    "print(sues)\n",
    "print(id_sue(sues))"
   ]
  },
  {
   "cell_type": "markdown",
   "id": "481d1ef8",
   "metadata": {},
   "source": [
    "### Solution"
   ]
  },
  {
   "cell_type": "code",
   "execution_count": 30,
   "id": "a8cadda4",
   "metadata": {},
   "outputs": [
    {
     "name": "stdout",
     "output_type": "stream",
     "text": [
      "[Sue(number=40, children=None, cats=7, samoyeds=None, pomeranians=None, akitas=0, vizslas=0, goldfish=None, trees=None, cars=None, perfumes=None)]\n"
     ]
    }
   ],
   "source": [
    "with open(\"day16.txt\", \"r\") as ifh:\n",
    "    print(id_sue([parse_sue(_) for _ in ifh.readlines()]))"
   ]
  },
  {
   "cell_type": "markdown",
   "id": "c18d66cc",
   "metadata": {},
   "source": [
    "## Puzzle 2\n",
    "\n",
    "As you're about to send the thank you note, something in the MFCSAM's instructions catches your eye. Apparently, it has an outdated retroencabulator, and so the output from the machine isn't exact values - some of them indicate ranges.\n",
    "\n",
    "In particular, the cats and trees readings indicates that there are greater than that many (due to the unpredictable nuclear decay of cat dander and tree pollen), while the pomeranians and goldfish readings indicate that there are fewer than that many (due to the modial interaction of magnetoreluctance).\n",
    "\n",
    "What is the number of the real Aunt Sue?"
   ]
  },
  {
   "cell_type": "code",
   "execution_count": 31,
   "id": "6b5c40de",
   "metadata": {},
   "outputs": [],
   "source": [
    "def id_sue_fixed(sues:List):\n",
    "    \"\"\"Return an identified Sue from the list\n",
    "    \n",
    "    :param sues: list of Sues objects\n",
    "    \"\"\"\n",
    "    ticker = {\"children\": 3,\n",
    "              \"cats\": 7,\n",
    "              \"samoyeds\": 2,\n",
    "              \"pomeranians\": 3,\n",
    "              \"akitas\": 0,\n",
    "              \"vizslas\": 0,\n",
    "              \"goldfish\": 5,\n",
    "              \"trees\": 3,\n",
    "              \"cars\": 2,\n",
    "              \"perfumes\": 1}\n",
    "    for key, val in ticker.items():\n",
    "        if key in (\"cats\", \"trees\"):\n",
    "            sues = [_ for _ in sues if getattr(_, key) is None or getattr(_, key) > val]\n",
    "        elif key in (\"pomeranians\", \"goldfish\"):\n",
    "            sues = [_ for _ in sues if getattr(_, key) is None or getattr(_, key) < val]\n",
    "        else:\n",
    "            sues = [_ for _ in sues if getattr(_, key) in (None, val)]\n",
    "        \n",
    "    return sues"
   ]
  },
  {
   "cell_type": "code",
   "execution_count": 32,
   "id": "3392f413",
   "metadata": {},
   "outputs": [
    {
     "name": "stdout",
     "output_type": "stream",
     "text": [
      "[Sue(number=241, children=None, cats=None, samoyeds=2, pomeranians=1, akitas=None, vizslas=None, goldfish=None, trees=None, cars=2, perfumes=None)]\n"
     ]
    }
   ],
   "source": [
    "with open(\"day16.txt\", \"r\") as ifh:\n",
    "    print(id_sue_fixed([parse_sue(_) for _ in ifh.readlines()]))"
   ]
  },
  {
   "cell_type": "code",
   "execution_count": null,
   "id": "29dc68d5",
   "metadata": {},
   "outputs": [],
   "source": []
  }
 ],
 "metadata": {
  "kernelspec": {
   "display_name": "Python 3",
   "language": "python",
   "name": "python3"
  },
  "language_info": {
   "codemirror_mode": {
    "name": "ipython",
    "version": 3
   },
   "file_extension": ".py",
   "mimetype": "text/x-python",
   "name": "python",
   "nbconvert_exporter": "python",
   "pygments_lexer": "ipython3",
   "version": "3.8.10"
  }
 },
 "nbformat": 4,
 "nbformat_minor": 5
}
