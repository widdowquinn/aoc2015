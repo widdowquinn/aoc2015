{
 "cells": [
  {
   "cell_type": "markdown",
   "id": "86191404",
   "metadata": {},
   "source": [
    "# Day 05\n",
    "\n",
    "Santa needs help figuring out which strings in his text file are naughty or nice.\n",
    "\n",
    "A nice string is one with all of the following properties:\n",
    "\n",
    "    It contains at least three vowels (aeiou only), like aei, xazegov, or aeiouaeiouaeiou.\n",
    "    It contains at least one letter that appears twice in a row, like xx, abcdde (dd), or aabbccdd (aa, bb, cc, or dd).\n",
    "    It does not contain the strings ab, cd, pq, or xy, even if they are part of one of the other requirements.\n",
    "\n",
    "For example:\n",
    "\n",
    "    ugknbfddgicrmopn is nice because it has at least three vowels (u...i...o...), a double letter (...dd...), and none of the disallowed substrings.\n",
    "    aaa is nice because it has at least three vowels and a double letter, even though the letters used by different rules overlap.\n",
    "    jchzalrnumimnmhp is naughty because it has no double letter.\n",
    "    haegwjzuvuyypxyu is naughty because it contains the string xy.\n",
    "    dvszwmarrgswjxmb is naughty because it contains only one vowel.\n",
    "\n",
    "How many strings are nice?"
   ]
  },
  {
   "cell_type": "markdown",
   "id": "8260c343",
   "metadata": {},
   "source": [
    "## Puzzle 1"
   ]
  },
  {
   "cell_type": "code",
   "execution_count": 1,
   "id": "1659c0e6",
   "metadata": {},
   "outputs": [],
   "source": [
    "import string\n",
    "\n",
    "VOWELS = \"aeiou\"\n",
    "DOUBLES = [2 * _ for _ in string.ascii_lowercase]\n",
    "FORBIDDEN = (\"ab\", \"cd\", \"pq\", \"xy\")\n",
    "\n",
    "def count_vowels(instr:str) -> int:\n",
    "    \"\"\"Return count of vowels aeiou in string.\n",
    "    \n",
    "    :param instr: input string\n",
    "    \"\"\"\n",
    "    return len([_ for _ in instr if _ in VOWELS])\n",
    "\n",
    "\n",
    "def count_double_letters(instr:str) -> int:\n",
    "    \"\"\"Return count of double letters in string.\n",
    "    \n",
    "    :param instr: input string\n",
    "    \"\"\"\n",
    "    return len([_ for _ in DOUBLES if _ in instr])\n",
    "    \n",
    "\n",
    "def count_forbidden(instr:str) -> int:\n",
    "    \"\"\"Return count of forbidden letter combinations.\n",
    "    \n",
    "    :param instr: input string\n",
    "    \"\"\"\n",
    "    return len([_ for _ in FORBIDDEN if _ in instr])\n",
    "\n",
    "\n",
    "def naughty_or_nice(instr:str) -> str:\n",
    "    \"\"\"Returns naughty or nice status of string.\n",
    "    \n",
    "    :param instr: input string\n",
    "    \"\"\"\n",
    "    if count_forbidden(instr) or (count_vowels(instr) < 3) or (not count_double_letters(instr)):\n",
    "        return \"naughty\"\n",
    "    return \"nice\"\n"
   ]
  },
  {
   "cell_type": "code",
   "execution_count": 2,
   "id": "3134c5c5",
   "metadata": {},
   "outputs": [
    {
     "name": "stdout",
     "output_type": "stream",
     "text": [
      "ugknbfddgicrmopn nice\n",
      "aaa nice\n",
      "jchzalrnumimnmhp naughty\n",
      "haegwjzuvuyypxyu naughty\n",
      "dvszwmarrgswjxmb naughty\n"
     ]
    }
   ],
   "source": [
    "instrs = (\"ugknbfddgicrmopn\",\n",
    "          \"aaa\",\n",
    "          \"jchzalrnumimnmhp\",\n",
    "          \"haegwjzuvuyypxyu\",\n",
    "          \"dvszwmarrgswjxmb\")\n",
    "for instr in instrs:\n",
    "    print(instr, naughty_or_nice(instr))"
   ]
  },
  {
   "cell_type": "markdown",
   "id": "cd200be1",
   "metadata": {},
   "source": [
    "### Solution"
   ]
  },
  {
   "cell_type": "code",
   "execution_count": 3,
   "id": "9b375f08",
   "metadata": {},
   "outputs": [
    {
     "name": "stdout",
     "output_type": "stream",
     "text": [
      "236\n"
     ]
    }
   ],
   "source": [
    "with open(\"day05.txt\", \"r\") as ifh:\n",
    "    results = [naughty_or_nice(_.strip()) for _ in ifh.readlines()]\n",
    "    print(sum([_ == \"nice\" for _ in results]))"
   ]
  },
  {
   "cell_type": "markdown",
   "id": "28b11fcc",
   "metadata": {},
   "source": [
    "## Puzzle 2\n",
    "\n",
    "Realizing the error of his ways, Santa has switched to a better model of determining whether a string is naughty or nice. None of the old rules apply, as they are all clearly ridiculous.\n",
    "\n",
    "Now, a nice string is one with all of the following properties:\n",
    "\n",
    "    It contains a pair of any two letters that appears at least twice in the string without overlapping, like xyxy (xy) or aabcdefgaa (aa), but not like aaa (aa, but it overlaps).\n",
    "    It contains at least one letter which repeats with exactly one letter between them, like xyx, abcdefeghi (efe), or even aaa.\n",
    "\n",
    "For example:\n",
    "\n",
    "    qjhvhtzxzqqjkmpb is nice because is has a pair that appears twice (qj) and a letter that repeats with exactly one letter between them (zxz).\n",
    "    xxyxx is nice because it has a pair that appears twice and a letter that repeats with one between, even though the letters used by each rule overlap.\n",
    "    uurcxstgmygtbstg is naughty because it has a pair (tg) but no repeat with a single letter between them.\n",
    "    ieodomkazucvgmuy is naughty because it has a repeating letter with one between (odo), but no pair that appears twice.\n",
    "\n",
    "How many strings are nice under these new rules?"
   ]
  },
  {
   "cell_type": "code",
   "execution_count": 4,
   "id": "11bce456",
   "metadata": {},
   "outputs": [],
   "source": [
    "import re\n",
    "\n",
    "from itertools import permutations\n",
    "\n",
    "PAIRS = [\"%s%s\" % _ for _ in permutations(string.ascii_lowercase, 2)] + DOUBLES\n",
    "TRIPLES = [re.compile(f\"{_}.{_}\") for _ in string.ascii_lowercase]\n",
    "\n",
    "def has_two_pairs(instr:str) -> bool:\n",
    "    \"\"\"Returns True if string has two non-overlapping pairs of letters\n",
    "    \n",
    "    :param instr: input string\n",
    "    \"\"\"\n",
    "    paircounts = {pair: instr.count(pair) for pair in PAIRS}\n",
    "    candidates = [re.compile(f\"{pair}.*{pair}\") for (pair, val) in paircounts.items() if val > 1]\n",
    "    for candidate in candidates:\n",
    "        if re.search(candidate, instr) is not None:\n",
    "            return True\n",
    "    return False\n",
    "\n",
    "def has_triple(instr:str) -> bool:\n",
    "    \"\"\"Returns True if string has repeated letter with one separating letter\n",
    "    \n",
    "    :param instr: input string\n",
    "    \"\"\"\n",
    "    for triple in TRIPLES:\n",
    "        if re.search(triple, instr) is not None:\n",
    "            return True\n",
    "    return False\n",
    "\n",
    "def new_naughty_or_nice(instr:str) -> bool:\n",
    "    \"\"\"Returns naughty/nice status with updated rules\n",
    "    \n",
    "    :param instr: input string\n",
    "    \"\"\"\n",
    "    if (not has_two_pairs(instr)) or (not has_triple(instr)):\n",
    "        return \"naughty\"\n",
    "    return \"nice\""
   ]
  },
  {
   "cell_type": "code",
   "execution_count": 5,
   "id": "d0d06ba1",
   "metadata": {},
   "outputs": [
    {
     "name": "stdout",
     "output_type": "stream",
     "text": [
      "qjhvhtzxzqqjkmpb nice\n",
      "xxyxx nice\n",
      "uurcxstgmygtbstg naughty\n",
      "ieodomkazucvgmuy naughty\n"
     ]
    }
   ],
   "source": [
    "instrs = (\"qjhvhtzxzqqjkmpb\", \"xxyxx\", \"uurcxstgmygtbstg\", \"ieodomkazucvgmuy\")\n",
    "for instr in instrs:\n",
    "    print(instr, new_naughty_or_nice(instr))"
   ]
  },
  {
   "cell_type": "markdown",
   "id": "678ba548",
   "metadata": {},
   "source": [
    "### Solution"
   ]
  },
  {
   "cell_type": "code",
   "execution_count": 6,
   "id": "c55e3cdd",
   "metadata": {},
   "outputs": [
    {
     "name": "stdout",
     "output_type": "stream",
     "text": [
      "51\n"
     ]
    }
   ],
   "source": [
    "with open(\"day05.txt\", \"r\") as ifh:\n",
    "    results = [new_naughty_or_nice(_.strip()) for _ in ifh.readlines()]\n",
    "    print(sum([_ == \"nice\" for _ in results]))"
   ]
  },
  {
   "cell_type": "code",
   "execution_count": null,
   "id": "3511e2b4",
   "metadata": {},
   "outputs": [],
   "source": []
  }
 ],
 "metadata": {
  "kernelspec": {
   "display_name": "Python 3",
   "language": "python",
   "name": "python3"
  },
  "language_info": {
   "codemirror_mode": {
    "name": "ipython",
    "version": 3
   },
   "file_extension": ".py",
   "mimetype": "text/x-python",
   "name": "python",
   "nbconvert_exporter": "python",
   "pygments_lexer": "ipython3",
   "version": "3.8.10"
  }
 },
 "nbformat": 4,
 "nbformat_minor": 5
}
