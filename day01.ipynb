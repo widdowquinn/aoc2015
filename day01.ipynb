{
 "cells": [
  {
   "cell_type": "markdown",
   "id": "10c2ccd2",
   "metadata": {},
   "source": [
    "# Day 01\n",
    "\n",
    "Santa is trying to deliver presents in a large apartment building, but he can't find the right floor - the directions he got are a little confusing. He starts on the ground floor (floor 0) and then follows the instructions one character at a time.\n",
    "\n",
    "An opening parenthesis, `(`, means he should go up one floor, and a closing parenthesis, `)`, means he should go down one floor.\n",
    "\n",
    "The apartment building is very tall, and the basement is very deep; he will never find the top or bottom floors.\n",
    "\n",
    "For example:\n",
    "\n",
    "    (()) and ()() both result in floor 0.\n",
    "    ((( and (()(()( both result in floor 3.\n",
    "    ))((((( also results in floor 3.\n",
    "    ()) and ))( both result in floor -1 (the first basement level).\n",
    "    ))) and )())()) both result in floor -3.\n",
    "\n",
    "To what floor do the instructions take Santa?"
   ]
  },
  {
   "cell_type": "markdown",
   "id": "3fb2d66f",
   "metadata": {},
   "source": [
    "## Puzzle 1"
   ]
  },
  {
   "cell_type": "code",
   "execution_count": 1,
   "id": "b4d71672",
   "metadata": {},
   "outputs": [],
   "source": [
    "def find_floor(instr: str, start: int=0) -> int:\n",
    "    \"\"\"Return floor for delivery.\n",
    "    \n",
    "    :param instr: instructions for Santa\n",
    "    :param start: starting floor\n",
    "    \n",
    "    Left parenthesis means 'go up a floor', right parenthesis\n",
    "    means 'go down a floor'\n",
    "    \"\"\"\n",
    "    return start + instr.count(\"(\") - instr.count(\")\")"
   ]
  },
  {
   "cell_type": "code",
   "execution_count": 2,
   "id": "3e364bee",
   "metadata": {},
   "outputs": [
    {
     "name": "stdout",
     "output_type": "stream",
     "text": [
      "(()) 0\n",
      "()() 0\n",
      "((( 3\n",
      "(()(()( 3\n",
      "))((((( 3\n",
      "()) -1\n",
      "))( -1\n",
      "))) -3\n",
      ")())()) -3\n"
     ]
    }
   ],
   "source": [
    "for instr in (\"(())\", \"()()\",\n",
    "              \"(((\", \"(()(()(\",\n",
    "              \"))(((((\",\n",
    "              \"())\", \"))(\",\n",
    "              \")))\", \")())())\"):\n",
    "    print(instr, find_floor(instr))"
   ]
  },
  {
   "cell_type": "markdown",
   "id": "3193854d",
   "metadata": {},
   "source": [
    "### Solution"
   ]
  },
  {
   "cell_type": "code",
   "execution_count": 3,
   "id": "25d72033",
   "metadata": {},
   "outputs": [
    {
     "name": "stdout",
     "output_type": "stream",
     "text": [
      "138\n"
     ]
    }
   ],
   "source": [
    "with open(\"day01.txt\", \"r\") as ifh:\n",
    "    print(find_floor(ifh.read()))"
   ]
  },
  {
   "cell_type": "markdown",
   "id": "db6d7ed0",
   "metadata": {},
   "source": [
    "## Puzzle 2\n",
    "\n",
    "Now, given the same instructions, find the position of the first character that causes him to enter the basement (floor -1). The first character in the instructions has position 1, the second character has position 2, and so on.\n",
    "\n",
    "For example:\n",
    "\n",
    "    ) causes him to enter the basement at character position 1.\n",
    "    ()()) causes him to enter the basement at character position 5.\n",
    "\n",
    "What is the position of the character that causes Santa to first enter the basement?"
   ]
  },
  {
   "cell_type": "code",
   "execution_count": 4,
   "id": "52d4f06d",
   "metadata": {},
   "outputs": [],
   "source": [
    "def first_visit(instr: str, floor: int, start: int=0) -> int:\n",
    "    \"\"\"Return position of first instruction that visits named floor\n",
    "    \n",
    "    :param instr: instructions to Santa\n",
    "    :param floor: floor being visited\n",
    "    :param start: starting floor\n",
    "    \"\"\"\n",
    "    # Clean instructions\n",
    "    instr = [_ for _ in instr if _ in \"()\"]\n",
    "    \n",
    "    # Find floor\n",
    "    curfloor = start\n",
    "    for inum, _ in enumerate(instr):\n",
    "        if _ == \"(\":\n",
    "            curfloor += 1\n",
    "        else:\n",
    "            curfloor -= 1\n",
    "        if curfloor == floor:\n",
    "            return inum + 1"
   ]
  },
  {
   "cell_type": "code",
   "execution_count": 5,
   "id": "5a73a1bc",
   "metadata": {},
   "outputs": [
    {
     "name": "stdout",
     "output_type": "stream",
     "text": [
      ") 1\n",
      "()()) 5\n"
     ]
    }
   ],
   "source": [
    "for instr in (\")\", \"()())\"):\n",
    "    print(instr, first_visit(instr, -1))"
   ]
  },
  {
   "cell_type": "markdown",
   "id": "d89b5971",
   "metadata": {},
   "source": [
    "### Solution"
   ]
  },
  {
   "cell_type": "code",
   "execution_count": 6,
   "id": "e65d08bc",
   "metadata": {},
   "outputs": [
    {
     "name": "stdout",
     "output_type": "stream",
     "text": [
      "1771\n"
     ]
    }
   ],
   "source": [
    "with open(\"day01.txt\", \"r\") as ifh:\n",
    "    print(first_visit(ifh.read(), -1))"
   ]
  },
  {
   "cell_type": "code",
   "execution_count": null,
   "id": "7c740a3e",
   "metadata": {},
   "outputs": [],
   "source": []
  }
 ],
 "metadata": {
  "kernelspec": {
   "display_name": "Python 3",
   "language": "python",
   "name": "python3"
  },
  "language_info": {
   "codemirror_mode": {
    "name": "ipython",
    "version": 3
   },
   "file_extension": ".py",
   "mimetype": "text/x-python",
   "name": "python",
   "nbconvert_exporter": "python",
   "pygments_lexer": "ipython3",
   "version": "3.8.10"
  }
 },
 "nbformat": 4,
 "nbformat_minor": 5
}
