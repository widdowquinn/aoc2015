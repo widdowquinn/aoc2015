{
 "cells": [
  {
   "cell_type": "markdown",
   "id": "91942b76",
   "metadata": {},
   "source": [
    "# Day 14\n",
    "\n",
    "This year is the Reindeer Olympics! Reindeer can fly at high speeds, but must rest occasionally to recover their energy. Santa would like to know which of his reindeer is fastest, and so he has them race.\n",
    "\n",
    "Reindeer can only either be flying (always at their top speed) or resting (not moving at all), and always spend whole seconds in either state.\n",
    "\n",
    "For example, suppose you have the following Reindeer:\n",
    "\n",
    "    Comet can fly 14 km/s for 10 seconds, but then must rest for 127 seconds.\n",
    "    Dancer can fly 16 km/s for 11 seconds, but then must rest for 162 seconds.\n",
    "\n",
    "After one second, Comet has gone 14 km, while Dancer has gone 16 km. After ten seconds, Comet has gone 140 km, while Dancer has gone 160 km. On the eleventh second, Comet begins resting (staying at 140 km), and Dancer continues on for a total distance of 176 km. On the 12th second, both reindeer are resting. They continue to rest until the 138th second, when Comet flies for another ten seconds. On the 174th second, Dancer flies for another 11 seconds.\n",
    "\n",
    "In this example, after the 1000th second, both reindeer are resting, and Comet is in the lead at 1120 km (poor Dancer has only gotten 1056 km by that point). So, in this situation, Comet would win (if the race ended at 1000 seconds).\n",
    "\n",
    "Given the descriptions of each reindeer (in your puzzle input), after exactly 2503 seconds, what distance has the winning reindeer traveled?"
   ]
  },
  {
   "cell_type": "markdown",
   "id": "ff78c460",
   "metadata": {},
   "source": [
    "## Puzzle 1"
   ]
  },
  {
   "cell_type": "code",
   "execution_count": 1,
   "id": "0d30aec6",
   "metadata": {},
   "outputs": [],
   "source": [
    "from collections import defaultdict\n",
    "from typing import Dict, List, Tuple\n",
    "\n",
    "\n",
    "def parse_reindeer(instr:str) -> Tuple:\n",
    "    \"\"\"Return reindeer statistics\n",
    "    \n",
    "    :param instr: description of reindeer\n",
    "    \n",
    "    Returns (reindeer, speed, move time, rest time)\n",
    "    \"\"\"\n",
    "    data = instr.strip().split()\n",
    "    \n",
    "    return (data[0], int(data[3]), int(data[6]), int(data[13]))\n",
    "\n",
    "\n",
    "def final_distances(data:List, time:int) -> Dict:\n",
    "    \"\"\"Return final distances for each reindeer at passed time\n",
    "    \n",
    "    :param data: descriptions of reindeer\n",
    "    :param time: race end time\n",
    "    \"\"\"\n",
    "    positions = {}\n",
    "    \n",
    "    for line in data:\n",
    "        r_data = parse_reindeer(line)\n",
    "        r_tot_time = r_data[2] + r_data[3]  # total rest + move time\n",
    "        r_periods = time // r_tot_time\n",
    "        r_end_time = time % r_tot_time\n",
    "        dist = r_periods * r_data[1] * r_data[2]\n",
    "        if r_end_time > r_data[2]:\n",
    "            dist += r_data[1] * r_data[2]\n",
    "        else:\n",
    "            dist += r_data[1] * r_end_time\n",
    "        positions[r_data[0]] = dist\n",
    "        \n",
    "    return positions\n",
    "\n",
    "\n",
    "def race_positions(data:List, time:int) -> List:\n",
    "    \"\"\"Return race results\n",
    "    \n",
    "    :param data: descriptions of reindeer\n",
    "    :param time: race end time\n",
    "    \"\"\"\n",
    "    positions = [(time, name) for (name, time) in final_distances(data, time).items()]\n",
    "    return sorted(positions, reverse=True)"
   ]
  },
  {
   "cell_type": "code",
   "execution_count": 2,
   "id": "d96913bb",
   "metadata": {},
   "outputs": [
    {
     "name": "stdout",
     "output_type": "stream",
     "text": [
      "('Comet', 14, 10, 127)\n",
      "('Dancer', 16, 11, 162)\n",
      "{'Comet': 1120, 'Dancer': 1056}\n",
      "[(1120, 'Comet'), (1056, 'Dancer')]\n"
     ]
    }
   ],
   "source": [
    "data = (\"Comet can fly 14 km/s for 10 seconds, but then must rest for 127 seconds.\",\n",
    "        \"Dancer can fly 16 km/s for 11 seconds, but then must rest for 162 seconds.\")\n",
    "\n",
    "for datum in data:\n",
    "    print(parse_reindeer(datum))\n",
    "\n",
    "print(final_distances(data, 1000))\n",
    "print(race_positions(data, 1000))"
   ]
  },
  {
   "cell_type": "markdown",
   "id": "a945108a",
   "metadata": {},
   "source": [
    "### Solution"
   ]
  },
  {
   "cell_type": "code",
   "execution_count": 3,
   "id": "4d046938",
   "metadata": {},
   "outputs": [
    {
     "name": "stdout",
     "output_type": "stream",
     "text": [
      "[(2660, 'Vixen'), (2639, 'Comet'), (2637, 'Rudolph'), (2590, 'Dasher'), (2565, 'Donner'), (2565, 'Blitzen'), (2550, 'Prancer'), (2550, 'Cupid'), (2292, 'Dancer')]\n"
     ]
    }
   ],
   "source": [
    "with open(\"day14.txt\", \"r\") as ifh:\n",
    "    print(race_positions(ifh.readlines(), 2503))"
   ]
  },
  {
   "cell_type": "markdown",
   "id": "24ccbb45",
   "metadata": {},
   "source": [
    "## Puzzle 2\n",
    "\n",
    "Seeing how reindeer move in bursts, Santa decides he's not pleased with the old scoring system.\n",
    "\n",
    "Instead, at the end of each second, he awards one point to the reindeer currently in the lead. (If there are multiple reindeer tied for the lead, they each get one point.) He keeps the traditional 2503 second time limit, of course, as doing otherwise would be entirely ridiculous.\n",
    "\n",
    "Given the example reindeer from above, after the first second, Dancer is in the lead and gets one point. He stays in the lead until several seconds into Comet's second burst: after the 140th second, Comet pulls into the lead and gets his first point. Of course, since Dancer had been in the lead for the 139 seconds before that, he has accumulated 139 points by the 140th second.\n",
    "\n",
    "After the 1000th second, Dancer has accumulated 689 points, while poor Comet, our old champion, only has 312. So, with the new scoring system, Dancer would win (if the race ended at 1000 seconds).\n",
    "\n",
    "Again given the descriptions of each reindeer (in your puzzle input), after exactly 2503 seconds, how many points does the winning reindeer have?"
   ]
  },
  {
   "cell_type": "code",
   "execution_count": 4,
   "id": "38069db1",
   "metadata": {},
   "outputs": [],
   "source": [
    "def score_reindeer(data:List, time:int):\n",
    "    \"\"\"Return race score for each reindeer\n",
    "    \n",
    "    :param data: descriptions of reindeer\n",
    "    :param time: race end time\n",
    "    \"\"\"\n",
    "    points = defaultdict(int)\n",
    "    \n",
    "    for second in range(time):\n",
    "        positions = race_positions(data, second + 1)\n",
    "        maxdist = positions[0][0]  # account for ties\n",
    "        for dist, name in positions:\n",
    "            if dist == maxdist:\n",
    "                points[name] += 1\n",
    "        \n",
    "    scores = [(score, name) for (name, score) in points.items()]\n",
    "    return sorted(scores, reverse=True)"
   ]
  },
  {
   "cell_type": "code",
   "execution_count": 5,
   "id": "2039de8c",
   "metadata": {},
   "outputs": [
    {
     "data": {
      "text/plain": [
       "[(689, 'Dancer'), (312, 'Comet')]"
      ]
     },
     "execution_count": 5,
     "metadata": {},
     "output_type": "execute_result"
    }
   ],
   "source": [
    "score_reindeer(data, 1000)"
   ]
  },
  {
   "cell_type": "markdown",
   "id": "689961cb",
   "metadata": {},
   "source": [
    "### Solution"
   ]
  },
  {
   "cell_type": "code",
   "execution_count": 6,
   "id": "9e7bf54c",
   "metadata": {},
   "outputs": [
    {
     "name": "stdout",
     "output_type": "stream",
     "text": [
      "[(1256, 'Blitzen'), (589, 'Donner'), (504, 'Prancer'), (469, 'Vixen'), (307, 'Cupid'), (188, 'Rudolph'), (158, 'Comet'), (9, 'Dasher')]\n"
     ]
    }
   ],
   "source": [
    "with open(\"day14.txt\", \"r\") as ifh:\n",
    "    print(score_reindeer(ifh.readlines(), 2503))"
   ]
  },
  {
   "cell_type": "code",
   "execution_count": null,
   "id": "ef9fe9da",
   "metadata": {},
   "outputs": [],
   "source": []
  }
 ],
 "metadata": {
  "kernelspec": {
   "display_name": "Python 3",
   "language": "python",
   "name": "python3"
  },
  "language_info": {
   "codemirror_mode": {
    "name": "ipython",
    "version": 3
   },
   "file_extension": ".py",
   "mimetype": "text/x-python",
   "name": "python",
   "nbconvert_exporter": "python",
   "pygments_lexer": "ipython3",
   "version": "3.8.10"
  }
 },
 "nbformat": 4,
 "nbformat_minor": 5
}
